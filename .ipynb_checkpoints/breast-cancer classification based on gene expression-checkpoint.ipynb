{
 "cells": [
  {
   "cell_type": "markdown",
   "id": "f9372fe2",
   "metadata": {},
   "source": [
    "# Gene Expression and SVM Breast cancer Classification"
   ]
  },
  {
   "cell_type": "markdown",
   "id": "3cd88593",
   "metadata": {},
   "source": [
    "**Source: [MW01a](https://www.csie.ntu.edu.tw/~cjlin/libsvmtools/datasets/ref.html#MW01a)**\n",
    "\n",
    "**Preprocessing:** Instance-wise normalization to mean zero and variance one. Then feature-\n",
    "wise normalization to mean zero and variance one. The data are split into training (38), and\n",
    "validation (4). [SKS03a](https://www.csie.ntu.edu.tw/~cjlin/libsvmtools/datasets/ref.html#SKS03a)\n",
    "\n",
    "- \\# of classes: 2\n",
    "- \\# of data: 44\n",
    "- \\# of features: 7,129\n",
    "\n",
    "**Files:**\n",
    " - [duke.bz2 (combined)](https://www.csie.ntu.edu.tw/~cjlin/libsvmtools/datasets/binary/duke.bz2)\n",
    " - [duke.tr.bz2 (tr)](https://www.csie.ntu.edu.tw/~cjlin/libsvmtools/datasets/binary/duke.tr.bz2)\n",
    " - [duke.val.bz2 (val)](https://www.csie.ntu.edu.tw/~cjlin/libsvmtools/datasets/binary/duke.val.bz2)\n",
    " \n",
    " **Indecator:**\n",
    " - -1 : Normal\n",
    " -  1 : Patient"
   ]
  },
  {
   "cell_type": "code",
   "execution_count": 136,
   "id": "2b559c3d",
   "metadata": {},
   "outputs": [],
   "source": [
    "import pandas as pd\n",
    "import numpy as np\n",
    "import matplotlib.pylab as plt\n",
    "import seaborn as sns\n",
    "\n",
    "import scipy.spatial as sp\n",
    "import scipy.cluster.hierarchy as hc\n",
    "from sklearn.model_selection import GridSearchCV, train_test_split\n",
    "from sklearn import svm\n",
    "from sklearn.linear_model import LogisticRegression\n",
    "from sklearn.decomposition import PCA\n",
    "from sklearn.preprocessing import StandardScaler, MinMaxScaler\n",
    "from sklearn.metrics import accuracy_score, confusion_matrix, classification_report, ConfusionMatrixDisplay"
   ]
  },
  {
   "cell_type": "code",
   "execution_count": 102,
   "id": "7623c222",
   "metadata": {},
   "outputs": [],
   "source": [
    "# read data\n",
    "df = pd.read_csv(\"ds/duke.tr\", sep=\" \", header=None)"
   ]
  },
  {
   "cell_type": "code",
   "execution_count": 103,
   "id": "b26fa36d",
   "metadata": {},
   "outputs": [
    {
     "data": {
      "text/plain": [
       "(38, 7131)"
      ]
     },
     "execution_count": 103,
     "metadata": {},
     "output_type": "execute_result"
    }
   ],
   "source": [
    "df.shape"
   ]
  },
  {
   "cell_type": "code",
   "execution_count": 104,
   "id": "064873b4",
   "metadata": {},
   "outputs": [
    {
     "data": {
      "text/html": [
       "<div>\n",
       "<style scoped>\n",
       "    .dataframe tbody tr th:only-of-type {\n",
       "        vertical-align: middle;\n",
       "    }\n",
       "\n",
       "    .dataframe tbody tr th {\n",
       "        vertical-align: top;\n",
       "    }\n",
       "\n",
       "    .dataframe thead th {\n",
       "        text-align: right;\n",
       "    }\n",
       "</style>\n",
       "<table border=\"1\" class=\"dataframe\">\n",
       "  <thead>\n",
       "    <tr style=\"text-align: right;\">\n",
       "      <th></th>\n",
       "      <th>0</th>\n",
       "      <th>1</th>\n",
       "      <th>2</th>\n",
       "      <th>3</th>\n",
       "      <th>4</th>\n",
       "      <th>5</th>\n",
       "      <th>6</th>\n",
       "      <th>7</th>\n",
       "      <th>8</th>\n",
       "      <th>9</th>\n",
       "      <th>...</th>\n",
       "      <th>7121</th>\n",
       "      <th>7122</th>\n",
       "      <th>7123</th>\n",
       "      <th>7124</th>\n",
       "      <th>7125</th>\n",
       "      <th>7126</th>\n",
       "      <th>7127</th>\n",
       "      <th>7128</th>\n",
       "      <th>7129</th>\n",
       "      <th>7130</th>\n",
       "    </tr>\n",
       "  </thead>\n",
       "  <tbody>\n",
       "    <tr>\n",
       "      <th>0</th>\n",
       "      <td>1.0</td>\n",
       "      <td>NaN</td>\n",
       "      <td>1:-0.362772</td>\n",
       "      <td>2:-0.314085</td>\n",
       "      <td>3:-0.177185</td>\n",
       "      <td>4:0.898650</td>\n",
       "      <td>5:-0.154588</td>\n",
       "      <td>6:-0.217807</td>\n",
       "      <td>7:0.410032</td>\n",
       "      <td>8:-0.106035</td>\n",
       "      <td>...</td>\n",
       "      <td>7120:0.352048</td>\n",
       "      <td>7121:-0.163001</td>\n",
       "      <td>7122:0.050292</td>\n",
       "      <td>7123:0.471149</td>\n",
       "      <td>7124:0.241524</td>\n",
       "      <td>7125:0.068197</td>\n",
       "      <td>7126:-0.009899</td>\n",
       "      <td>7127:0.343084</td>\n",
       "      <td>7128:-1.243480</td>\n",
       "      <td>7129:1.804020</td>\n",
       "    </tr>\n",
       "    <tr>\n",
       "      <th>1</th>\n",
       "      <td>1.0</td>\n",
       "      <td>NaN</td>\n",
       "      <td>1:-0.459580</td>\n",
       "      <td>2:-0.719855</td>\n",
       "      <td>3:-1.005840</td>\n",
       "      <td>4:-0.902675</td>\n",
       "      <td>5:-0.657600</td>\n",
       "      <td>6:-0.592310</td>\n",
       "      <td>7:0.233404</td>\n",
       "      <td>8:-0.745314</td>\n",
       "      <td>...</td>\n",
       "      <td>7120:0.224620</td>\n",
       "      <td>7121:-0.003717</td>\n",
       "      <td>7122:-0.405143</td>\n",
       "      <td>7123:0.251173</td>\n",
       "      <td>7124:0.368900</td>\n",
       "      <td>7125:-0.312117</td>\n",
       "      <td>7126:-0.573882</td>\n",
       "      <td>7127:-0.729734</td>\n",
       "      <td>7128:-0.639368</td>\n",
       "      <td>7129:0.344724</td>\n",
       "    </tr>\n",
       "    <tr>\n",
       "      <th>2</th>\n",
       "      <td>1.0</td>\n",
       "      <td>NaN</td>\n",
       "      <td>1:0.103909</td>\n",
       "      <td>2:-0.296076</td>\n",
       "      <td>3:-0.165474</td>\n",
       "      <td>4:0.044957</td>\n",
       "      <td>5:-0.089225</td>\n",
       "      <td>6:-0.380194</td>\n",
       "      <td>7:0.249268</td>\n",
       "      <td>8:-0.219473</td>\n",
       "      <td>...</td>\n",
       "      <td>7120:0.388621</td>\n",
       "      <td>7121:-0.488521</td>\n",
       "      <td>7122:-0.405670</td>\n",
       "      <td>7123:0.346316</td>\n",
       "      <td>7124:-0.044239</td>\n",
       "      <td>7125:0.095011</td>\n",
       "      <td>7126:0.430106</td>\n",
       "      <td>7127:0.181200</td>\n",
       "      <td>7128:-0.626812</td>\n",
       "      <td>7129:0.237308</td>\n",
       "    </tr>\n",
       "    <tr>\n",
       "      <th>3</th>\n",
       "      <td>-1.0</td>\n",
       "      <td>NaN</td>\n",
       "      <td>1:-0.110728</td>\n",
       "      <td>2:-0.147049</td>\n",
       "      <td>3:-0.402544</td>\n",
       "      <td>4:-0.148652</td>\n",
       "      <td>5:-0.112891</td>\n",
       "      <td>6:-0.047957</td>\n",
       "      <td>7:0.132846</td>\n",
       "      <td>8:0.064040</td>\n",
       "      <td>...</td>\n",
       "      <td>7120:0.419011</td>\n",
       "      <td>7121:-0.362254</td>\n",
       "      <td>7122:-0.077094</td>\n",
       "      <td>7123:0.517718</td>\n",
       "      <td>7124:-0.591872</td>\n",
       "      <td>7125:0.063579</td>\n",
       "      <td>7126:-0.094244</td>\n",
       "      <td>7127:0.731982</td>\n",
       "      <td>7128:-1.464370</td>\n",
       "      <td>7129:0.905178</td>\n",
       "    </tr>\n",
       "    <tr>\n",
       "      <th>4</th>\n",
       "      <td>-1.0</td>\n",
       "      <td>NaN</td>\n",
       "      <td>1:0.332963</td>\n",
       "      <td>2:1.002860</td>\n",
       "      <td>3:0.803334</td>\n",
       "      <td>4:-0.431752</td>\n",
       "      <td>5:1.479780</td>\n",
       "      <td>6:0.130415</td>\n",
       "      <td>7:0.323632</td>\n",
       "      <td>8:0.472668</td>\n",
       "      <td>...</td>\n",
       "      <td>7120:1.117700</td>\n",
       "      <td>7121:-0.099333</td>\n",
       "      <td>7122:0.491889</td>\n",
       "      <td>7123:2.226070</td>\n",
       "      <td>7124:-0.415884</td>\n",
       "      <td>7125:0.284093</td>\n",
       "      <td>7126:1.911490</td>\n",
       "      <td>7127:1.815050</td>\n",
       "      <td>7128:-0.559660</td>\n",
       "      <td>7129:-0.699785</td>\n",
       "    </tr>\n",
       "  </tbody>\n",
       "</table>\n",
       "<p>5 rows × 7131 columns</p>\n",
       "</div>"
      ],
      "text/plain": [
       "   0     1            2            3            4            5      \n",
       "0   1.0   NaN  1:-0.362772  2:-0.314085  3:-0.177185   4:0.898650  \\\n",
       "1   1.0   NaN  1:-0.459580  2:-0.719855  3:-1.005840  4:-0.902675   \n",
       "2   1.0   NaN   1:0.103909  2:-0.296076  3:-0.165474   4:0.044957   \n",
       "3  -1.0   NaN  1:-0.110728  2:-0.147049  3:-0.402544  4:-0.148652   \n",
       "4  -1.0   NaN   1:0.332963   2:1.002860   3:0.803334  4:-0.431752   \n",
       "\n",
       "          6            7           8            9     ...           7121   \n",
       "0  5:-0.154588  6:-0.217807  7:0.410032  8:-0.106035  ...  7120:0.352048  \\\n",
       "1  5:-0.657600  6:-0.592310  7:0.233404  8:-0.745314  ...  7120:0.224620   \n",
       "2  5:-0.089225  6:-0.380194  7:0.249268  8:-0.219473  ...  7120:0.388621   \n",
       "3  5:-0.112891  6:-0.047957  7:0.132846   8:0.064040  ...  7120:0.419011   \n",
       "4   5:1.479780   6:0.130415  7:0.323632   8:0.472668  ...  7120:1.117700   \n",
       "\n",
       "             7122            7123           7124            7125   \n",
       "0  7121:-0.163001   7122:0.050292  7123:0.471149   7124:0.241524  \\\n",
       "1  7121:-0.003717  7122:-0.405143  7123:0.251173   7124:0.368900   \n",
       "2  7121:-0.488521  7122:-0.405670  7123:0.346316  7124:-0.044239   \n",
       "3  7121:-0.362254  7122:-0.077094  7123:0.517718  7124:-0.591872   \n",
       "4  7121:-0.099333   7122:0.491889  7123:2.226070  7124:-0.415884   \n",
       "\n",
       "             7126            7127            7128            7129   \n",
       "0   7125:0.068197  7126:-0.009899   7127:0.343084  7128:-1.243480  \\\n",
       "1  7125:-0.312117  7126:-0.573882  7127:-0.729734  7128:-0.639368   \n",
       "2   7125:0.095011   7126:0.430106   7127:0.181200  7128:-0.626812   \n",
       "3   7125:0.063579  7126:-0.094244   7127:0.731982  7128:-1.464370   \n",
       "4   7125:0.284093   7126:1.911490   7127:1.815050  7128:-0.559660   \n",
       "\n",
       "             7130  \n",
       "0   7129:1.804020  \n",
       "1   7129:0.344724  \n",
       "2   7129:0.237308  \n",
       "3   7129:0.905178  \n",
       "4  7129:-0.699785  \n",
       "\n",
       "[5 rows x 7131 columns]"
      ]
     },
     "execution_count": 104,
     "metadata": {},
     "output_type": "execute_result"
    }
   ],
   "source": [
    "df.head()"
   ]
  },
  {
   "cell_type": "markdown",
   "id": "0425a4ff",
   "metadata": {},
   "source": [
    "---"
   ]
  },
  {
   "cell_type": "markdown",
   "id": "b68f12a8",
   "metadata": {},
   "source": [
    "## Cleaning The dataset:"
   ]
  },
  {
   "cell_type": "markdown",
   "id": "44b36474",
   "metadata": {},
   "source": [
    "**Step 1: Checking For Null values**"
   ]
  },
  {
   "cell_type": "code",
   "execution_count": 105,
   "id": "44d166cb",
   "metadata": {
    "scrolled": true
   },
   "outputs": [
    {
     "data": {
      "text/plain": [
       "0        0\n",
       "1       38\n",
       "2        0\n",
       "3        0\n",
       "4        0\n",
       "        ..\n",
       "7126     0\n",
       "7127     0\n",
       "7128     0\n",
       "7129     0\n",
       "7130     0\n",
       "Length: 7131, dtype: int64"
      ]
     },
     "execution_count": 105,
     "metadata": {},
     "output_type": "execute_result"
    }
   ],
   "source": [
    "df.isna().sum()"
   ]
  },
  {
   "cell_type": "code",
   "execution_count": 106,
   "id": "bacf9b0a",
   "metadata": {},
   "outputs": [
    {
     "data": {
      "text/plain": [
       "(38, 7131)"
      ]
     },
     "execution_count": 106,
     "metadata": {},
     "output_type": "execute_result"
    }
   ],
   "source": [
    "df[df.isna()].shape"
   ]
  },
  {
   "cell_type": "markdown",
   "id": "31ad189a",
   "metadata": {},
   "source": [
    "Dropping The column that has null values as this won't affect the data:\n"
   ]
  },
  {
   "cell_type": "code",
   "execution_count": 107,
   "id": "1b0be9f7",
   "metadata": {},
   "outputs": [],
   "source": [
    "df.dropna(axis=1, inplace=True)"
   ]
  },
  {
   "cell_type": "markdown",
   "id": "405bdb08",
   "metadata": {},
   "source": [
    "Making sure there isn't any null values:"
   ]
  },
  {
   "cell_type": "code",
   "execution_count": 108,
   "id": "92bcc018",
   "metadata": {},
   "outputs": [
    {
     "data": {
      "text/plain": [
       "0       0\n",
       "2       0\n",
       "3       0\n",
       "4       0\n",
       "5       0\n",
       "       ..\n",
       "7126    0\n",
       "7127    0\n",
       "7128    0\n",
       "7129    0\n",
       "7130    0\n",
       "Length: 7130, dtype: int64"
      ]
     },
     "execution_count": 108,
     "metadata": {},
     "output_type": "execute_result"
    }
   ],
   "source": [
    "df.isna().sum()"
   ]
  },
  {
   "cell_type": "code",
   "execution_count": 109,
   "id": "a5243dbd",
   "metadata": {},
   "outputs": [
    {
     "data": {
      "text/html": [
       "<div>\n",
       "<style scoped>\n",
       "    .dataframe tbody tr th:only-of-type {\n",
       "        vertical-align: middle;\n",
       "    }\n",
       "\n",
       "    .dataframe tbody tr th {\n",
       "        vertical-align: top;\n",
       "    }\n",
       "\n",
       "    .dataframe thead th {\n",
       "        text-align: right;\n",
       "    }\n",
       "</style>\n",
       "<table border=\"1\" class=\"dataframe\">\n",
       "  <thead>\n",
       "    <tr style=\"text-align: right;\">\n",
       "      <th></th>\n",
       "      <th>0</th>\n",
       "      <th>2</th>\n",
       "      <th>3</th>\n",
       "      <th>4</th>\n",
       "      <th>5</th>\n",
       "      <th>6</th>\n",
       "      <th>7</th>\n",
       "      <th>8</th>\n",
       "      <th>9</th>\n",
       "      <th>10</th>\n",
       "      <th>...</th>\n",
       "      <th>7121</th>\n",
       "      <th>7122</th>\n",
       "      <th>7123</th>\n",
       "      <th>7124</th>\n",
       "      <th>7125</th>\n",
       "      <th>7126</th>\n",
       "      <th>7127</th>\n",
       "      <th>7128</th>\n",
       "      <th>7129</th>\n",
       "      <th>7130</th>\n",
       "    </tr>\n",
       "  </thead>\n",
       "  <tbody>\n",
       "    <tr>\n",
       "      <th>0</th>\n",
       "      <td>1.0</td>\n",
       "      <td>1:-0.362772</td>\n",
       "      <td>2:-0.314085</td>\n",
       "      <td>3:-0.177185</td>\n",
       "      <td>4:0.898650</td>\n",
       "      <td>5:-0.154588</td>\n",
       "      <td>6:-0.217807</td>\n",
       "      <td>7:0.410032</td>\n",
       "      <td>8:-0.106035</td>\n",
       "      <td>9:2.094580</td>\n",
       "      <td>...</td>\n",
       "      <td>7120:0.352048</td>\n",
       "      <td>7121:-0.163001</td>\n",
       "      <td>7122:0.050292</td>\n",
       "      <td>7123:0.471149</td>\n",
       "      <td>7124:0.241524</td>\n",
       "      <td>7125:0.068197</td>\n",
       "      <td>7126:-0.009899</td>\n",
       "      <td>7127:0.343084</td>\n",
       "      <td>7128:-1.243480</td>\n",
       "      <td>7129:1.804020</td>\n",
       "    </tr>\n",
       "    <tr>\n",
       "      <th>1</th>\n",
       "      <td>1.0</td>\n",
       "      <td>1:-0.459580</td>\n",
       "      <td>2:-0.719855</td>\n",
       "      <td>3:-1.005840</td>\n",
       "      <td>4:-0.902675</td>\n",
       "      <td>5:-0.657600</td>\n",
       "      <td>6:-0.592310</td>\n",
       "      <td>7:0.233404</td>\n",
       "      <td>8:-0.745314</td>\n",
       "      <td>9:-0.736191</td>\n",
       "      <td>...</td>\n",
       "      <td>7120:0.224620</td>\n",
       "      <td>7121:-0.003717</td>\n",
       "      <td>7122:-0.405143</td>\n",
       "      <td>7123:0.251173</td>\n",
       "      <td>7124:0.368900</td>\n",
       "      <td>7125:-0.312117</td>\n",
       "      <td>7126:-0.573882</td>\n",
       "      <td>7127:-0.729734</td>\n",
       "      <td>7128:-0.639368</td>\n",
       "      <td>7129:0.344724</td>\n",
       "    </tr>\n",
       "    <tr>\n",
       "      <th>2</th>\n",
       "      <td>1.0</td>\n",
       "      <td>1:0.103909</td>\n",
       "      <td>2:-0.296076</td>\n",
       "      <td>3:-0.165474</td>\n",
       "      <td>4:0.044957</td>\n",
       "      <td>5:-0.089225</td>\n",
       "      <td>6:-0.380194</td>\n",
       "      <td>7:0.249268</td>\n",
       "      <td>8:-0.219473</td>\n",
       "      <td>9:-0.343635</td>\n",
       "      <td>...</td>\n",
       "      <td>7120:0.388621</td>\n",
       "      <td>7121:-0.488521</td>\n",
       "      <td>7122:-0.405670</td>\n",
       "      <td>7123:0.346316</td>\n",
       "      <td>7124:-0.044239</td>\n",
       "      <td>7125:0.095011</td>\n",
       "      <td>7126:0.430106</td>\n",
       "      <td>7127:0.181200</td>\n",
       "      <td>7128:-0.626812</td>\n",
       "      <td>7129:0.237308</td>\n",
       "    </tr>\n",
       "    <tr>\n",
       "      <th>3</th>\n",
       "      <td>-1.0</td>\n",
       "      <td>1:-0.110728</td>\n",
       "      <td>2:-0.147049</td>\n",
       "      <td>3:-0.402544</td>\n",
       "      <td>4:-0.148652</td>\n",
       "      <td>5:-0.112891</td>\n",
       "      <td>6:-0.047957</td>\n",
       "      <td>7:0.132846</td>\n",
       "      <td>8:0.064040</td>\n",
       "      <td>9:-0.319076</td>\n",
       "      <td>...</td>\n",
       "      <td>7120:0.419011</td>\n",
       "      <td>7121:-0.362254</td>\n",
       "      <td>7122:-0.077094</td>\n",
       "      <td>7123:0.517718</td>\n",
       "      <td>7124:-0.591872</td>\n",
       "      <td>7125:0.063579</td>\n",
       "      <td>7126:-0.094244</td>\n",
       "      <td>7127:0.731982</td>\n",
       "      <td>7128:-1.464370</td>\n",
       "      <td>7129:0.905178</td>\n",
       "    </tr>\n",
       "    <tr>\n",
       "      <th>4</th>\n",
       "      <td>-1.0</td>\n",
       "      <td>1:0.332963</td>\n",
       "      <td>2:1.002860</td>\n",
       "      <td>3:0.803334</td>\n",
       "      <td>4:-0.431752</td>\n",
       "      <td>5:1.479780</td>\n",
       "      <td>6:0.130415</td>\n",
       "      <td>7:0.323632</td>\n",
       "      <td>8:0.472668</td>\n",
       "      <td>9:0.237987</td>\n",
       "      <td>...</td>\n",
       "      <td>7120:1.117700</td>\n",
       "      <td>7121:-0.099333</td>\n",
       "      <td>7122:0.491889</td>\n",
       "      <td>7123:2.226070</td>\n",
       "      <td>7124:-0.415884</td>\n",
       "      <td>7125:0.284093</td>\n",
       "      <td>7126:1.911490</td>\n",
       "      <td>7127:1.815050</td>\n",
       "      <td>7128:-0.559660</td>\n",
       "      <td>7129:-0.699785</td>\n",
       "    </tr>\n",
       "  </tbody>\n",
       "</table>\n",
       "<p>5 rows × 7130 columns</p>\n",
       "</div>"
      ],
      "text/plain": [
       "   0            2            3            4            5            6      \n",
       "0   1.0  1:-0.362772  2:-0.314085  3:-0.177185   4:0.898650  5:-0.154588  \\\n",
       "1   1.0  1:-0.459580  2:-0.719855  3:-1.005840  4:-0.902675  5:-0.657600   \n",
       "2   1.0   1:0.103909  2:-0.296076  3:-0.165474   4:0.044957  5:-0.089225   \n",
       "3  -1.0  1:-0.110728  2:-0.147049  3:-0.402544  4:-0.148652  5:-0.112891   \n",
       "4  -1.0   1:0.332963   2:1.002860   3:0.803334  4:-0.431752   5:1.479780   \n",
       "\n",
       "          7           8            9            10    ...           7121   \n",
       "0  6:-0.217807  7:0.410032  8:-0.106035   9:2.094580  ...  7120:0.352048  \\\n",
       "1  6:-0.592310  7:0.233404  8:-0.745314  9:-0.736191  ...  7120:0.224620   \n",
       "2  6:-0.380194  7:0.249268  8:-0.219473  9:-0.343635  ...  7120:0.388621   \n",
       "3  6:-0.047957  7:0.132846   8:0.064040  9:-0.319076  ...  7120:0.419011   \n",
       "4   6:0.130415  7:0.323632   8:0.472668   9:0.237987  ...  7120:1.117700   \n",
       "\n",
       "             7122            7123           7124            7125   \n",
       "0  7121:-0.163001   7122:0.050292  7123:0.471149   7124:0.241524  \\\n",
       "1  7121:-0.003717  7122:-0.405143  7123:0.251173   7124:0.368900   \n",
       "2  7121:-0.488521  7122:-0.405670  7123:0.346316  7124:-0.044239   \n",
       "3  7121:-0.362254  7122:-0.077094  7123:0.517718  7124:-0.591872   \n",
       "4  7121:-0.099333   7122:0.491889  7123:2.226070  7124:-0.415884   \n",
       "\n",
       "             7126            7127            7128            7129   \n",
       "0   7125:0.068197  7126:-0.009899   7127:0.343084  7128:-1.243480  \\\n",
       "1  7125:-0.312117  7126:-0.573882  7127:-0.729734  7128:-0.639368   \n",
       "2   7125:0.095011   7126:0.430106   7127:0.181200  7128:-0.626812   \n",
       "3   7125:0.063579  7126:-0.094244   7127:0.731982  7128:-1.464370   \n",
       "4   7125:0.284093   7126:1.911490   7127:1.815050  7128:-0.559660   \n",
       "\n",
       "             7130  \n",
       "0   7129:1.804020  \n",
       "1   7129:0.344724  \n",
       "2   7129:0.237308  \n",
       "3   7129:0.905178  \n",
       "4  7129:-0.699785  \n",
       "\n",
       "[5 rows x 7130 columns]"
      ]
     },
     "execution_count": 109,
     "metadata": {},
     "output_type": "execute_result"
    }
   ],
   "source": [
    "df.head()"
   ]
  },
  {
   "cell_type": "markdown",
   "id": "39abbb96",
   "metadata": {},
   "source": [
    "**Step 2: Cleaning feature value** - To create a numaric field"
   ]
  },
  {
   "cell_type": "markdown",
   "id": "744321ab",
   "metadata": {},
   "source": [
    "Store Label Data Before Processing"
   ]
  },
  {
   "cell_type": "code",
   "execution_count": 110,
   "id": "c469cfb0",
   "metadata": {},
   "outputs": [
    {
     "name": "stdout",
     "output_type": "stream",
     "text": [
      "(16, 7130)\n",
      "(22, 7130)\n"
     ]
    }
   ],
   "source": [
    "print(df[df[0] == -1].shape)\n",
    "print(df[df[0] == 1].shape)"
   ]
  },
  {
   "cell_type": "code",
   "execution_count": 111,
   "id": "e6bb9001",
   "metadata": {},
   "outputs": [],
   "source": [
    "labels = df.iloc[:,0].values"
   ]
  },
  {
   "cell_type": "markdown",
   "id": "b91f9e22",
   "metadata": {},
   "source": [
    "Removing feature number from feature value: e.g.(1:value, 2:value, ...)"
   ]
  },
  {
   "cell_type": "code",
   "execution_count": 112,
   "id": "a564d4c8",
   "metadata": {
    "scrolled": false
   },
   "outputs": [],
   "source": [
    "df = df.iloc[:,1:].applymap(lambda x: x.split(\":\")[1])"
   ]
  },
  {
   "cell_type": "code",
   "execution_count": 113,
   "id": "7ef0c2c9",
   "metadata": {
    "scrolled": false
   },
   "outputs": [
    {
     "data": {
      "text/html": [
       "<div>\n",
       "<style scoped>\n",
       "    .dataframe tbody tr th:only-of-type {\n",
       "        vertical-align: middle;\n",
       "    }\n",
       "\n",
       "    .dataframe tbody tr th {\n",
       "        vertical-align: top;\n",
       "    }\n",
       "\n",
       "    .dataframe thead th {\n",
       "        text-align: right;\n",
       "    }\n",
       "</style>\n",
       "<table border=\"1\" class=\"dataframe\">\n",
       "  <thead>\n",
       "    <tr style=\"text-align: right;\">\n",
       "      <th></th>\n",
       "      <th>2</th>\n",
       "      <th>3</th>\n",
       "      <th>4</th>\n",
       "      <th>5</th>\n",
       "      <th>6</th>\n",
       "      <th>7</th>\n",
       "      <th>8</th>\n",
       "      <th>9</th>\n",
       "      <th>10</th>\n",
       "      <th>11</th>\n",
       "      <th>...</th>\n",
       "      <th>7121</th>\n",
       "      <th>7122</th>\n",
       "      <th>7123</th>\n",
       "      <th>7124</th>\n",
       "      <th>7125</th>\n",
       "      <th>7126</th>\n",
       "      <th>7127</th>\n",
       "      <th>7128</th>\n",
       "      <th>7129</th>\n",
       "      <th>7130</th>\n",
       "    </tr>\n",
       "  </thead>\n",
       "  <tbody>\n",
       "    <tr>\n",
       "      <th>0</th>\n",
       "      <td>-0.362772</td>\n",
       "      <td>-0.314085</td>\n",
       "      <td>-0.177185</td>\n",
       "      <td>0.898650</td>\n",
       "      <td>-0.154588</td>\n",
       "      <td>-0.217807</td>\n",
       "      <td>0.410032</td>\n",
       "      <td>-0.106035</td>\n",
       "      <td>2.094580</td>\n",
       "      <td>-0.120402</td>\n",
       "      <td>...</td>\n",
       "      <td>0.352048</td>\n",
       "      <td>-0.163001</td>\n",
       "      <td>0.050292</td>\n",
       "      <td>0.471149</td>\n",
       "      <td>0.241524</td>\n",
       "      <td>0.068197</td>\n",
       "      <td>-0.009899</td>\n",
       "      <td>0.343084</td>\n",
       "      <td>-1.243480</td>\n",
       "      <td>1.804020</td>\n",
       "    </tr>\n",
       "    <tr>\n",
       "      <th>1</th>\n",
       "      <td>-0.459580</td>\n",
       "      <td>-0.719855</td>\n",
       "      <td>-1.005840</td>\n",
       "      <td>-0.902675</td>\n",
       "      <td>-0.657600</td>\n",
       "      <td>-0.592310</td>\n",
       "      <td>0.233404</td>\n",
       "      <td>-0.745314</td>\n",
       "      <td>-0.736191</td>\n",
       "      <td>-0.722748</td>\n",
       "      <td>...</td>\n",
       "      <td>0.224620</td>\n",
       "      <td>-0.003717</td>\n",
       "      <td>-0.405143</td>\n",
       "      <td>0.251173</td>\n",
       "      <td>0.368900</td>\n",
       "      <td>-0.312117</td>\n",
       "      <td>-0.573882</td>\n",
       "      <td>-0.729734</td>\n",
       "      <td>-0.639368</td>\n",
       "      <td>0.344724</td>\n",
       "    </tr>\n",
       "    <tr>\n",
       "      <th>2</th>\n",
       "      <td>0.103909</td>\n",
       "      <td>-0.296076</td>\n",
       "      <td>-0.165474</td>\n",
       "      <td>0.044957</td>\n",
       "      <td>-0.089225</td>\n",
       "      <td>-0.380194</td>\n",
       "      <td>0.249268</td>\n",
       "      <td>-0.219473</td>\n",
       "      <td>-0.343635</td>\n",
       "      <td>0.600622</td>\n",
       "      <td>...</td>\n",
       "      <td>0.388621</td>\n",
       "      <td>-0.488521</td>\n",
       "      <td>-0.405670</td>\n",
       "      <td>0.346316</td>\n",
       "      <td>-0.044239</td>\n",
       "      <td>0.095011</td>\n",
       "      <td>0.430106</td>\n",
       "      <td>0.181200</td>\n",
       "      <td>-0.626812</td>\n",
       "      <td>0.237308</td>\n",
       "    </tr>\n",
       "    <tr>\n",
       "      <th>3</th>\n",
       "      <td>-0.110728</td>\n",
       "      <td>-0.147049</td>\n",
       "      <td>-0.402544</td>\n",
       "      <td>-0.148652</td>\n",
       "      <td>-0.112891</td>\n",
       "      <td>-0.047957</td>\n",
       "      <td>0.132846</td>\n",
       "      <td>0.064040</td>\n",
       "      <td>-0.319076</td>\n",
       "      <td>0.923248</td>\n",
       "      <td>...</td>\n",
       "      <td>0.419011</td>\n",
       "      <td>-0.362254</td>\n",
       "      <td>-0.077094</td>\n",
       "      <td>0.517718</td>\n",
       "      <td>-0.591872</td>\n",
       "      <td>0.063579</td>\n",
       "      <td>-0.094244</td>\n",
       "      <td>0.731982</td>\n",
       "      <td>-1.464370</td>\n",
       "      <td>0.905178</td>\n",
       "    </tr>\n",
       "    <tr>\n",
       "      <th>4</th>\n",
       "      <td>0.332963</td>\n",
       "      <td>1.002860</td>\n",
       "      <td>0.803334</td>\n",
       "      <td>-0.431752</td>\n",
       "      <td>1.479780</td>\n",
       "      <td>0.130415</td>\n",
       "      <td>0.323632</td>\n",
       "      <td>0.472668</td>\n",
       "      <td>0.237987</td>\n",
       "      <td>0.706464</td>\n",
       "      <td>...</td>\n",
       "      <td>1.117700</td>\n",
       "      <td>-0.099333</td>\n",
       "      <td>0.491889</td>\n",
       "      <td>2.226070</td>\n",
       "      <td>-0.415884</td>\n",
       "      <td>0.284093</td>\n",
       "      <td>1.911490</td>\n",
       "      <td>1.815050</td>\n",
       "      <td>-0.559660</td>\n",
       "      <td>-0.699785</td>\n",
       "    </tr>\n",
       "  </tbody>\n",
       "</table>\n",
       "<p>5 rows × 7129 columns</p>\n",
       "</div>"
      ],
      "text/plain": [
       "        2          3          4          5          6          7         8      \n",
       "0  -0.362772  -0.314085  -0.177185   0.898650  -0.154588  -0.217807  0.410032  \\\n",
       "1  -0.459580  -0.719855  -1.005840  -0.902675  -0.657600  -0.592310  0.233404   \n",
       "2   0.103909  -0.296076  -0.165474   0.044957  -0.089225  -0.380194  0.249268   \n",
       "3  -0.110728  -0.147049  -0.402544  -0.148652  -0.112891  -0.047957  0.132846   \n",
       "4   0.332963   1.002860   0.803334  -0.431752   1.479780   0.130415  0.323632   \n",
       "\n",
       "        9          10         11    ...      7121       7122       7123   \n",
       "0  -0.106035   2.094580  -0.120402  ...  0.352048  -0.163001   0.050292  \\\n",
       "1  -0.745314  -0.736191  -0.722748  ...  0.224620  -0.003717  -0.405143   \n",
       "2  -0.219473  -0.343635   0.600622  ...  0.388621  -0.488521  -0.405670   \n",
       "3   0.064040  -0.319076   0.923248  ...  0.419011  -0.362254  -0.077094   \n",
       "4   0.472668   0.237987   0.706464  ...  1.117700  -0.099333   0.491889   \n",
       "\n",
       "       7124       7125       7126       7127       7128       7129       7130  \n",
       "0  0.471149   0.241524   0.068197  -0.009899   0.343084  -1.243480   1.804020  \n",
       "1  0.251173   0.368900  -0.312117  -0.573882  -0.729734  -0.639368   0.344724  \n",
       "2  0.346316  -0.044239   0.095011   0.430106   0.181200  -0.626812   0.237308  \n",
       "3  0.517718  -0.591872   0.063579  -0.094244   0.731982  -1.464370   0.905178  \n",
       "4  2.226070  -0.415884   0.284093   1.911490   1.815050  -0.559660  -0.699785  \n",
       "\n",
       "[5 rows x 7129 columns]"
      ]
     },
     "execution_count": 113,
     "metadata": {},
     "output_type": "execute_result"
    }
   ],
   "source": [
    "df.head()"
   ]
  },
  {
   "cell_type": "markdown",
   "id": "07da5a26",
   "metadata": {},
   "source": [
    "Reindexing Columns"
   ]
  },
  {
   "cell_type": "code",
   "execution_count": 114,
   "id": "5abffffe",
   "metadata": {},
   "outputs": [],
   "source": [
    "df.columns = range(df.columns.size)"
   ]
  },
  {
   "cell_type": "markdown",
   "id": "e04fd610",
   "metadata": {},
   "source": [
    "**Step 3: Cheking labels in the dataset:**"
   ]
  },
  {
   "cell_type": "code",
   "execution_count": 115,
   "id": "e7f01081",
   "metadata": {},
   "outputs": [],
   "source": [
    "labels[np.where(labels == -1)] = 0 # normal\n",
    "labels[np.where(labels == 1)] = 1 # Patient "
   ]
  },
  {
   "cell_type": "markdown",
   "id": "84f26a5e",
   "metadata": {},
   "source": [
    "Renaming Classes to 0 and 1:"
   ]
  },
  {
   "cell_type": "code",
   "execution_count": 116,
   "id": "c0b67e0e",
   "metadata": {},
   "outputs": [
    {
     "data": {
      "text/plain": [
       "array([1., 1., 1., 0., 0., 0., 1., 1., 1., 1., 0., 0., 0., 1., 1., 1., 1.,\n",
       "       1., 1., 0., 0., 1., 0., 0., 0., 0., 0., 1., 1., 1., 1., 1., 1., 1.,\n",
       "       1., 0., 0., 0.])"
      ]
     },
     "execution_count": 116,
     "metadata": {},
     "output_type": "execute_result"
    }
   ],
   "source": [
    "labels"
   ]
  },
  {
   "cell_type": "code",
   "execution_count": 117,
   "id": "44c8a1a3",
   "metadata": {},
   "outputs": [],
   "source": [
    "df['class'] = labels"
   ]
  },
  {
   "cell_type": "markdown",
   "id": "e20b3582",
   "metadata": {},
   "source": [
    "Reindexing Columns"
   ]
  },
  {
   "cell_type": "code",
   "execution_count": 118,
   "id": "864ba5e4",
   "metadata": {
    "scrolled": true
   },
   "outputs": [
    {
     "data": {
      "text/html": [
       "<div>\n",
       "<style scoped>\n",
       "    .dataframe tbody tr th:only-of-type {\n",
       "        vertical-align: middle;\n",
       "    }\n",
       "\n",
       "    .dataframe tbody tr th {\n",
       "        vertical-align: top;\n",
       "    }\n",
       "\n",
       "    .dataframe thead th {\n",
       "        text-align: right;\n",
       "    }\n",
       "</style>\n",
       "<table border=\"1\" class=\"dataframe\">\n",
       "  <thead>\n",
       "    <tr style=\"text-align: right;\">\n",
       "      <th></th>\n",
       "      <th>0</th>\n",
       "      <th>1</th>\n",
       "      <th>2</th>\n",
       "      <th>3</th>\n",
       "      <th>4</th>\n",
       "      <th>5</th>\n",
       "      <th>6</th>\n",
       "      <th>7</th>\n",
       "      <th>8</th>\n",
       "      <th>9</th>\n",
       "      <th>...</th>\n",
       "      <th>7120</th>\n",
       "      <th>7121</th>\n",
       "      <th>7122</th>\n",
       "      <th>7123</th>\n",
       "      <th>7124</th>\n",
       "      <th>7125</th>\n",
       "      <th>7126</th>\n",
       "      <th>7127</th>\n",
       "      <th>7128</th>\n",
       "      <th>class</th>\n",
       "    </tr>\n",
       "  </thead>\n",
       "  <tbody>\n",
       "    <tr>\n",
       "      <th>0</th>\n",
       "      <td>-0.362772</td>\n",
       "      <td>-0.314085</td>\n",
       "      <td>-0.177185</td>\n",
       "      <td>0.898650</td>\n",
       "      <td>-0.154588</td>\n",
       "      <td>-0.217807</td>\n",
       "      <td>0.410032</td>\n",
       "      <td>-0.106035</td>\n",
       "      <td>2.094580</td>\n",
       "      <td>-0.120402</td>\n",
       "      <td>...</td>\n",
       "      <td>-0.163001</td>\n",
       "      <td>0.050292</td>\n",
       "      <td>0.471149</td>\n",
       "      <td>0.241524</td>\n",
       "      <td>0.068197</td>\n",
       "      <td>-0.009899</td>\n",
       "      <td>0.343084</td>\n",
       "      <td>-1.243480</td>\n",
       "      <td>1.804020</td>\n",
       "      <td>1.0</td>\n",
       "    </tr>\n",
       "    <tr>\n",
       "      <th>1</th>\n",
       "      <td>-0.459580</td>\n",
       "      <td>-0.719855</td>\n",
       "      <td>-1.005840</td>\n",
       "      <td>-0.902675</td>\n",
       "      <td>-0.657600</td>\n",
       "      <td>-0.592310</td>\n",
       "      <td>0.233404</td>\n",
       "      <td>-0.745314</td>\n",
       "      <td>-0.736191</td>\n",
       "      <td>-0.722748</td>\n",
       "      <td>...</td>\n",
       "      <td>-0.003717</td>\n",
       "      <td>-0.405143</td>\n",
       "      <td>0.251173</td>\n",
       "      <td>0.368900</td>\n",
       "      <td>-0.312117</td>\n",
       "      <td>-0.573882</td>\n",
       "      <td>-0.729734</td>\n",
       "      <td>-0.639368</td>\n",
       "      <td>0.344724</td>\n",
       "      <td>1.0</td>\n",
       "    </tr>\n",
       "    <tr>\n",
       "      <th>2</th>\n",
       "      <td>0.103909</td>\n",
       "      <td>-0.296076</td>\n",
       "      <td>-0.165474</td>\n",
       "      <td>0.044957</td>\n",
       "      <td>-0.089225</td>\n",
       "      <td>-0.380194</td>\n",
       "      <td>0.249268</td>\n",
       "      <td>-0.219473</td>\n",
       "      <td>-0.343635</td>\n",
       "      <td>0.600622</td>\n",
       "      <td>...</td>\n",
       "      <td>-0.488521</td>\n",
       "      <td>-0.405670</td>\n",
       "      <td>0.346316</td>\n",
       "      <td>-0.044239</td>\n",
       "      <td>0.095011</td>\n",
       "      <td>0.430106</td>\n",
       "      <td>0.181200</td>\n",
       "      <td>-0.626812</td>\n",
       "      <td>0.237308</td>\n",
       "      <td>1.0</td>\n",
       "    </tr>\n",
       "    <tr>\n",
       "      <th>3</th>\n",
       "      <td>-0.110728</td>\n",
       "      <td>-0.147049</td>\n",
       "      <td>-0.402544</td>\n",
       "      <td>-0.148652</td>\n",
       "      <td>-0.112891</td>\n",
       "      <td>-0.047957</td>\n",
       "      <td>0.132846</td>\n",
       "      <td>0.064040</td>\n",
       "      <td>-0.319076</td>\n",
       "      <td>0.923248</td>\n",
       "      <td>...</td>\n",
       "      <td>-0.362254</td>\n",
       "      <td>-0.077094</td>\n",
       "      <td>0.517718</td>\n",
       "      <td>-0.591872</td>\n",
       "      <td>0.063579</td>\n",
       "      <td>-0.094244</td>\n",
       "      <td>0.731982</td>\n",
       "      <td>-1.464370</td>\n",
       "      <td>0.905178</td>\n",
       "      <td>0.0</td>\n",
       "    </tr>\n",
       "    <tr>\n",
       "      <th>4</th>\n",
       "      <td>0.332963</td>\n",
       "      <td>1.002860</td>\n",
       "      <td>0.803334</td>\n",
       "      <td>-0.431752</td>\n",
       "      <td>1.479780</td>\n",
       "      <td>0.130415</td>\n",
       "      <td>0.323632</td>\n",
       "      <td>0.472668</td>\n",
       "      <td>0.237987</td>\n",
       "      <td>0.706464</td>\n",
       "      <td>...</td>\n",
       "      <td>-0.099333</td>\n",
       "      <td>0.491889</td>\n",
       "      <td>2.226070</td>\n",
       "      <td>-0.415884</td>\n",
       "      <td>0.284093</td>\n",
       "      <td>1.911490</td>\n",
       "      <td>1.815050</td>\n",
       "      <td>-0.559660</td>\n",
       "      <td>-0.699785</td>\n",
       "      <td>0.0</td>\n",
       "    </tr>\n",
       "  </tbody>\n",
       "</table>\n",
       "<p>5 rows × 7130 columns</p>\n",
       "</div>"
      ],
      "text/plain": [
       "           0          1          2          3          4          5         6   \n",
       "0  -0.362772  -0.314085  -0.177185   0.898650  -0.154588  -0.217807  0.410032  \\\n",
       "1  -0.459580  -0.719855  -1.005840  -0.902675  -0.657600  -0.592310  0.233404   \n",
       "2   0.103909  -0.296076  -0.165474   0.044957  -0.089225  -0.380194  0.249268   \n",
       "3  -0.110728  -0.147049  -0.402544  -0.148652  -0.112891  -0.047957  0.132846   \n",
       "4   0.332963   1.002860   0.803334  -0.431752   1.479780   0.130415  0.323632   \n",
       "\n",
       "           7          8          9  ...       7120       7121      7122   \n",
       "0  -0.106035   2.094580  -0.120402  ...  -0.163001   0.050292  0.471149  \\\n",
       "1  -0.745314  -0.736191  -0.722748  ...  -0.003717  -0.405143  0.251173   \n",
       "2  -0.219473  -0.343635   0.600622  ...  -0.488521  -0.405670  0.346316   \n",
       "3   0.064040  -0.319076   0.923248  ...  -0.362254  -0.077094  0.517718   \n",
       "4   0.472668   0.237987   0.706464  ...  -0.099333   0.491889  2.226070   \n",
       "\n",
       "        7123       7124       7125       7126       7127       7128 class  \n",
       "0   0.241524   0.068197  -0.009899   0.343084  -1.243480   1.804020   1.0  \n",
       "1   0.368900  -0.312117  -0.573882  -0.729734  -0.639368   0.344724   1.0  \n",
       "2  -0.044239   0.095011   0.430106   0.181200  -0.626812   0.237308   1.0  \n",
       "3  -0.591872   0.063579  -0.094244   0.731982  -1.464370   0.905178   0.0  \n",
       "4  -0.415884   0.284093   1.911490   1.815050  -0.559660  -0.699785   0.0  \n",
       "\n",
       "[5 rows x 7130 columns]"
      ]
     },
     "execution_count": 118,
     "metadata": {},
     "output_type": "execute_result"
    }
   ],
   "source": [
    "df.head()"
   ]
  },
  {
   "cell_type": "markdown",
   "id": "137d5d8e",
   "metadata": {},
   "source": [
    "Assigning Right Types To Right Columns"
   ]
  },
  {
   "cell_type": "code",
   "execution_count": 119,
   "id": "5ce040ab",
   "metadata": {
    "scrolled": true
   },
   "outputs": [
    {
     "data": {
      "text/plain": [
       "0         object\n",
       "1         object\n",
       "2         object\n",
       "3         object\n",
       "4         object\n",
       "          ...   \n",
       "7125      object\n",
       "7126      object\n",
       "7127      object\n",
       "7128      object\n",
       "class    float64\n",
       "Length: 7130, dtype: object"
      ]
     },
     "execution_count": 119,
     "metadata": {},
     "output_type": "execute_result"
    }
   ],
   "source": [
    "df.dtypes"
   ]
  },
  {
   "cell_type": "code",
   "execution_count": 120,
   "id": "25c69fb7",
   "metadata": {
    "scrolled": false
   },
   "outputs": [
    {
     "data": {
      "text/plain": [
       "0        float64\n",
       "1        float64\n",
       "2        float64\n",
       "3        float64\n",
       "4        float64\n",
       "          ...   \n",
       "7125     float64\n",
       "7126     float64\n",
       "7127     float64\n",
       "7128     float64\n",
       "class      int64\n",
       "Length: 7130, dtype: object"
      ]
     },
     "execution_count": 120,
     "metadata": {},
     "output_type": "execute_result"
    }
   ],
   "source": [
    "df = df.astype('float64')\n",
    "df['class'] = df.iloc[:, -1].astype(\"int\")\n",
    "\n",
    "df.dtypes"
   ]
  },
  {
   "cell_type": "markdown",
   "id": "f299902d",
   "metadata": {},
   "source": [
    "### Stage Outcome"
   ]
  },
  {
   "cell_type": "code",
   "execution_count": 121,
   "id": "89b2e0d2",
   "metadata": {},
   "outputs": [],
   "source": [
    "def df_cleaner(df):\n",
    "    \n",
    "    df.dropna(axis=1, inplace=True)\n",
    "    \n",
    "    labels = df.iloc[:,0].values\n",
    "    \n",
    "    df = df.iloc[:,1:].applymap(lambda x: x.split(\":\")[1])\n",
    "    \n",
    "    df.columns = range(df.columns.size)\n",
    "    \n",
    "    labels[np.where(labels == -1)] = 0 # normal\n",
    "    labels[np.where(labels == 1)] = 1 # Patient\n",
    "    \n",
    "    df['class'] = labels\n",
    "    \n",
    "    df = df.astype('float64')\n",
    "    df['class'] = df.iloc[:, -1].astype(\"int\")\n",
    "    \n",
    "    return df"
   ]
  },
  {
   "cell_type": "markdown",
   "id": "e7b735c6",
   "metadata": {},
   "source": [
    "---"
   ]
  },
  {
   "cell_type": "markdown",
   "id": "cb900fe6",
   "metadata": {},
   "source": [
    "## Perform Scaling"
   ]
  },
  {
   "cell_type": "markdown",
   "id": "076f3811",
   "metadata": {},
   "source": [
    "Extracting X, y Values"
   ]
  },
  {
   "cell_type": "code",
   "execution_count": 175,
   "id": "e86a9327",
   "metadata": {},
   "outputs": [],
   "source": [
    "X = df.iloc[:, :-1]\n",
    "y = df['class']"
   ]
  },
  {
   "cell_type": "code",
   "execution_count": 176,
   "id": "d0274db1",
   "metadata": {},
   "outputs": [],
   "source": [
    "std_scaler = StandardScaler()\n",
    "\n",
    "std_values = std_scaler.fit_transform(X)"
   ]
  },
  {
   "cell_type": "code",
   "execution_count": 177,
   "id": "2691d087",
   "metadata": {},
   "outputs": [],
   "source": [
    "minmax_scaler = MinMaxScaler()\n",
    "\n",
    "minmax_value = minmax_scaler.fit_transform(X)"
   ]
  },
  {
   "cell_type": "markdown",
   "id": "13d1de9d",
   "metadata": {},
   "source": [
    "---"
   ]
  },
  {
   "cell_type": "markdown",
   "id": "38920424",
   "metadata": {},
   "source": [
    "## Performing PCA (Principal Component Analysis)"
   ]
  },
  {
   "cell_type": "code",
   "execution_count": 178,
   "id": "314c3f26",
   "metadata": {},
   "outputs": [],
   "source": [
    "\"\"\"\n",
    "\n",
    "pca = PCA(n_components=10) # What is the difference\n",
    "\n",
    "-----\n",
    "If 0 < n_components < 1 and svd_solver == 'full',\n",
    "select the number of components such that the amount of variance that needs to be\n",
    "explained is greater than the percentage specified by n_components.\n",
    "\n",
    "\"\"\"\n",
    "\n",
    "pca = PCA(n_components=0.9)\n",
    "\n",
    "df_pca = pca.fit_transform(std_values)"
   ]
  },
  {
   "cell_type": "code",
   "execution_count": 179,
   "id": "2b8dee50",
   "metadata": {},
   "outputs": [],
   "source": [
    "df_pca = pd.DataFrame(df_pca)"
   ]
  },
  {
   "cell_type": "code",
   "execution_count": 180,
   "id": "55fc1cd1",
   "metadata": {
    "scrolled": true
   },
   "outputs": [
    {
     "data": {
      "text/plain": [
       "(38, 22)"
      ]
     },
     "execution_count": 180,
     "metadata": {},
     "output_type": "execute_result"
    }
   ],
   "source": [
    "df_pca.shape"
   ]
  },
  {
   "cell_type": "code",
   "execution_count": 181,
   "id": "e079bf02",
   "metadata": {},
   "outputs": [],
   "source": [
    "minmax_pca = PCA(n_components=0.9)\n",
    "\n",
    "minmax_df = pd.DataFrame(pca.fit_transform(minmax_value))"
   ]
  },
  {
   "cell_type": "code",
   "execution_count": 182,
   "id": "cf924c6f",
   "metadata": {},
   "outputs": [
    {
     "data": {
      "text/plain": [
       "(38, 22)"
      ]
     },
     "execution_count": 182,
     "metadata": {},
     "output_type": "execute_result"
    }
   ],
   "source": [
    "minmax_df.shape"
   ]
  },
  {
   "cell_type": "markdown",
   "id": "403fbc0e",
   "metadata": {},
   "source": [
    "Visualize PCA"
   ]
  },
  {
   "cell_type": "markdown",
   "id": "e7b905c9",
   "metadata": {},
   "source": [
    "def plot_feature_correlation(df, cols): \n",
    "    sns.set()\n",
    "    sns.pairplot(df_pca[cols], height = 2.5)\n",
    "    plt.show();\n",
    "    \n"
   ]
  },
  {
   "cell_type": "markdown",
   "id": "af732701",
   "metadata": {},
   "source": [
    "plot_feature_correlation(df_pca, [0, 1, 2, 3, 4, 5, 6])"
   ]
  },
  {
   "cell_type": "markdown",
   "id": "3558fecf",
   "metadata": {},
   "source": [
    "fig = plt.figure(figsize=(16, 16))\n",
    "ax = fig.add_subplot(1, 1, 1)\n",
    "ax.set_xlabel('PC 1', fontsize=12)\n",
    "ax.set_ylabel('PC 2', fontsize=12)\n",
    "ax.set_title('2 Components PCA', fontsize=15)\n",
    "\n",
    "\n",
    "for group in set(y):\n",
    "    idx = np.where(y == group)[0]\n",
    "    ax.scatter(df_pca.loc[idx, 0], df_pca.loc[idx, 1], label=group)\n",
    "    ax.scatter(df_pca.loc[idx, 2], df_pca.loc[idx, 3], label=group)\n",
    "    ax.scatter(df_pca.loc[idx, 15], df_pca.loc[idx, 16], label=group)\n",
    "\n",
    "\n",
    "ax.legend()\n",
    "ax.grid(True)\n",
    "plt.show()"
   ]
  },
  {
   "cell_type": "markdown",
   "id": "4178f46f",
   "metadata": {},
   "source": [
    "sample_dist = sp.distance.pdist(X, 'euclidean')\n",
    "feature_dist = sp.distance.pdist(X.T, 'euclidean') # Transpose The X to calculate distance\n",
    "\n",
    "sample_linkage = hc.linkage(sample_dist, method='average')\n",
    "feature_linkage = hc.linkage(feature_dist, method='average')\n",
    "\n",
    "g = sns.clustermap(\n",
    "    X.T, figsize=(16,16), z_score=0,\n",
    "    row_linkage=feature_linkage, col_linkage=sample_linkage\n",
    ")\n",
    "\n",
    "plt.show()"
   ]
  },
  {
   "cell_type": "markdown",
   "id": "ed4394d1",
   "metadata": {},
   "source": [
    "## Model Training"
   ]
  },
  {
   "cell_type": "code",
   "execution_count": 183,
   "id": "ccecbab6",
   "metadata": {},
   "outputs": [],
   "source": [
    "def report(clf, model):\n",
    "    best_result = clf.best_score_\n",
    "    print('Best classification accuracy of {} models: {}'.format(model, best_result))\n",
    "    best_parameters = clf.best_params_\n",
    "    print('Parameters of the best {} model: {}'.format(model, best_parameters))\n",
    "\n",
    "def classify(X, y, classifier, grid_params, name):\n",
    "    clf = GridSearchCV(classifier, grid_params, scoring='accuracy',\n",
    "                       cv=5, verbose=0, n_jobs=-1) # for detailed log verbose=2\n",
    "    clf.fit(X, y)\n",
    "\n",
    "    report(clf, name)"
   ]
  },
  {
   "cell_type": "markdown",
   "id": "576630b0",
   "metadata": {},
   "source": [
    "Get X, y"
   ]
  },
  {
   "cell_type": "code",
   "execution_count": 184,
   "id": "2cbbd978",
   "metadata": {},
   "outputs": [
    {
     "name": "stdout",
     "output_type": "stream",
     "text": [
      "Best classification accuracy of SVM models: 0.8142857142857143\n",
      "Parameters of the best SVM model: {'C': 1, 'class_weight': 'balanced', 'degree': 1, 'kernel': 'poly'}\n"
     ]
    }
   ],
   "source": [
    "X = df_pca\n",
    "y\n",
    "svm_param_grid = [\n",
    "    {\n",
    "        'C': [1, 10, 100, 1000],\n",
    "        'class_weight': [None, 'balanced'], 'kernel': ['linear']\n",
    "    },\n",
    "    {\n",
    "        'C': [1, 10, 100, 1000], 'degree': np.arange(1,11),\n",
    "        'class_weight': [None, 'balanced'], 'kernel': ['poly']\n",
    "    },\n",
    "    {\n",
    "        'C': [1, 10, 100, 1000],\n",
    "        'class_weight': [None, 'balanced'],\n",
    "        'kernel': ['rbf', 'sigmoid']\n",
    "    },\n",
    "]\n",
    "\n",
    "svc = svm.SVC(gamma='scale')\n",
    "classify(X, y, svc, svm_param_grid, 'SVM')"
   ]
  },
  {
   "cell_type": "code",
   "execution_count": 185,
   "id": "45486d12",
   "metadata": {
    "scrolled": true
   },
   "outputs": [
    {
     "name": "stdout",
     "output_type": "stream",
     "text": [
      "Best classification accuracy of SVM models: 0.8142857142857143\n",
      "Parameters of the best SVM model: {'C': 1, 'class_weight': 'balanced', 'degree': 1, 'kernel': 'poly'}\n"
     ]
    }
   ],
   "source": [
    "X = minmax_df\n",
    "y\n",
    "classify(X, y, svc, svm_param_grid, 'SVM')"
   ]
  },
  {
   "cell_type": "markdown",
   "id": "2f775a6a",
   "metadata": {},
   "source": [
    "It Gave The Same Accurcy"
   ]
  },
  {
   "cell_type": "markdown",
   "id": "3b0369e3",
   "metadata": {},
   "source": [
    "**Try A Linear Classifer**"
   ]
  },
  {
   "cell_type": "code",
   "execution_count": 186,
   "id": "2f98d08c",
   "metadata": {
    "scrolled": true
   },
   "outputs": [
    {
     "name": "stderr",
     "output_type": "stream",
     "text": [
      "/home/kareem/.local/lib/python3.10/site-packages/sklearn/linear_model/_sag.py:350: ConvergenceWarning: The max_iter was reached which means the coef_ did not converge\n",
      "  warnings.warn(\n",
      "/home/kareem/.local/lib/python3.10/site-packages/sklearn/linear_model/_sag.py:350: ConvergenceWarning: The max_iter was reached which means the coef_ did not converge\n",
      "  warnings.warn(\n",
      "/home/kareem/.local/lib/python3.10/site-packages/sklearn/linear_model/_sag.py:350: ConvergenceWarning: The max_iter was reached which means the coef_ did not converge\n",
      "  warnings.warn(\n",
      "/home/kareem/.local/lib/python3.10/site-packages/sklearn/linear_model/_sag.py:350: ConvergenceWarning: The max_iter was reached which means the coef_ did not converge\n",
      "  warnings.warn(\n",
      "/home/kareem/.local/lib/python3.10/site-packages/sklearn/linear_model/_sag.py:350: ConvergenceWarning: The max_iter was reached which means the coef_ did not converge\n",
      "  warnings.warn(\n",
      "/home/kareem/.local/lib/python3.10/site-packages/sklearn/linear_model/_sag.py:350: ConvergenceWarning: The max_iter was reached which means the coef_ did not converge\n",
      "  warnings.warn(\n",
      "/home/kareem/.local/lib/python3.10/site-packages/sklearn/linear_model/_sag.py:350: ConvergenceWarning: The max_iter was reached which means the coef_ did not converge\n",
      "  warnings.warn(\n",
      "/home/kareem/.local/lib/python3.10/site-packages/sklearn/linear_model/_sag.py:350: ConvergenceWarning: The max_iter was reached which means the coef_ did not converge\n",
      "  warnings.warn(\n",
      "/home/kareem/.local/lib/python3.10/site-packages/sklearn/linear_model/_sag.py:350: ConvergenceWarning: The max_iter was reached which means the coef_ did not converge\n",
      "  warnings.warn(\n",
      "/home/kareem/.local/lib/python3.10/site-packages/sklearn/linear_model/_sag.py:350: ConvergenceWarning: The max_iter was reached which means the coef_ did not converge\n",
      "  warnings.warn(\n",
      "/home/kareem/.local/lib/python3.10/site-packages/sklearn/linear_model/_sag.py:350: ConvergenceWarning: The max_iter was reached which means the coef_ did not converge\n",
      "  warnings.warn(\n",
      "/home/kareem/.local/lib/python3.10/site-packages/sklearn/linear_model/_sag.py:350: ConvergenceWarning: The max_iter was reached which means the coef_ did not converge\n",
      "  warnings.warn(\n",
      "/home/kareem/.local/lib/python3.10/site-packages/sklearn/linear_model/_sag.py:350: ConvergenceWarning: The max_iter was reached which means the coef_ did not converge\n",
      "  warnings.warn(\n",
      "/home/kareem/.local/lib/python3.10/site-packages/sklearn/linear_model/_sag.py:350: ConvergenceWarning: The max_iter was reached which means the coef_ did not converge\n",
      "  warnings.warn(\n",
      "/home/kareem/.local/lib/python3.10/site-packages/sklearn/linear_model/_sag.py:350: ConvergenceWarning: The max_iter was reached which means the coef_ did not converge\n",
      "  warnings.warn(\n",
      "/home/kareem/.local/lib/python3.10/site-packages/sklearn/linear_model/_sag.py:350: ConvergenceWarning: The max_iter was reached which means the coef_ did not converge\n",
      "  warnings.warn(\n",
      "/home/kareem/.local/lib/python3.10/site-packages/sklearn/linear_model/_sag.py:350: ConvergenceWarning: The max_iter was reached which means the coef_ did not converge\n",
      "  warnings.warn(\n",
      "/home/kareem/.local/lib/python3.10/site-packages/sklearn/linear_model/_sag.py:350: ConvergenceWarning: The max_iter was reached which means the coef_ did not converge\n",
      "  warnings.warn(\n",
      "/home/kareem/.local/lib/python3.10/site-packages/sklearn/linear_model/_sag.py:350: ConvergenceWarning: The max_iter was reached which means the coef_ did not converge\n",
      "  warnings.warn(\n",
      "/home/kareem/.local/lib/python3.10/site-packages/sklearn/linear_model/_sag.py:350: ConvergenceWarning: The max_iter was reached which means the coef_ did not converge\n",
      "  warnings.warn(\n",
      "/home/kareem/.local/lib/python3.10/site-packages/sklearn/linear_model/_sag.py:350: ConvergenceWarning: The max_iter was reached which means the coef_ did not converge\n",
      "  warnings.warn(\n",
      "/home/kareem/.local/lib/python3.10/site-packages/sklearn/linear_model/_sag.py:350: ConvergenceWarning: The max_iter was reached which means the coef_ did not converge\n",
      "  warnings.warn(\n",
      "/home/kareem/.local/lib/python3.10/site-packages/sklearn/linear_model/_sag.py:350: ConvergenceWarning: The max_iter was reached which means the coef_ did not converge\n",
      "  warnings.warn(\n",
      "/home/kareem/.local/lib/python3.10/site-packages/sklearn/linear_model/_sag.py:350: ConvergenceWarning: The max_iter was reached which means the coef_ did not converge\n",
      "  warnings.warn(\n",
      "/home/kareem/.local/lib/python3.10/site-packages/sklearn/linear_model/_sag.py:350: ConvergenceWarning: The max_iter was reached which means the coef_ did not converge\n",
      "  warnings.warn(\n",
      "/home/kareem/.local/lib/python3.10/site-packages/sklearn/linear_model/_sag.py:350: ConvergenceWarning: The max_iter was reached which means the coef_ did not converge\n",
      "  warnings.warn(\n",
      "/home/kareem/.local/lib/python3.10/site-packages/sklearn/linear_model/_sag.py:350: ConvergenceWarning: The max_iter was reached which means the coef_ did not converge\n",
      "  warnings.warn(\n",
      "/home/kareem/.local/lib/python3.10/site-packages/sklearn/linear_model/_sag.py:350: ConvergenceWarning: The max_iter was reached which means the coef_ did not converge\n",
      "  warnings.warn(\n",
      "/home/kareem/.local/lib/python3.10/site-packages/sklearn/linear_model/_sag.py:350: ConvergenceWarning: The max_iter was reached which means the coef_ did not converge\n",
      "  warnings.warn(\n",
      "/home/kareem/.local/lib/python3.10/site-packages/sklearn/linear_model/_sag.py:350: ConvergenceWarning: The max_iter was reached which means the coef_ did not converge\n",
      "  warnings.warn(\n",
      "/home/kareem/.local/lib/python3.10/site-packages/sklearn/linear_model/_sag.py:350: ConvergenceWarning: The max_iter was reached which means the coef_ did not converge\n",
      "  warnings.warn(\n",
      "/home/kareem/.local/lib/python3.10/site-packages/sklearn/linear_model/_sag.py:350: ConvergenceWarning: The max_iter was reached which means the coef_ did not converge\n",
      "  warnings.warn(\n",
      "/home/kareem/.local/lib/python3.10/site-packages/sklearn/linear_model/_sag.py:350: ConvergenceWarning: The max_iter was reached which means the coef_ did not converge\n",
      "  warnings.warn(\n",
      "/home/kareem/.local/lib/python3.10/site-packages/sklearn/linear_model/_sag.py:350: ConvergenceWarning: The max_iter was reached which means the coef_ did not converge\n",
      "  warnings.warn(\n",
      "/home/kareem/.local/lib/python3.10/site-packages/sklearn/linear_model/_sag.py:350: ConvergenceWarning: The max_iter was reached which means the coef_ did not converge\n",
      "  warnings.warn(\n",
      "/home/kareem/.local/lib/python3.10/site-packages/sklearn/linear_model/_sag.py:350: ConvergenceWarning: The max_iter was reached which means the coef_ did not converge\n",
      "  warnings.warn(\n",
      "/home/kareem/.local/lib/python3.10/site-packages/sklearn/linear_model/_sag.py:350: ConvergenceWarning: The max_iter was reached which means the coef_ did not converge\n",
      "  warnings.warn(\n",
      "/home/kareem/.local/lib/python3.10/site-packages/sklearn/linear_model/_sag.py:350: ConvergenceWarning: The max_iter was reached which means the coef_ did not converge\n",
      "  warnings.warn(\n",
      "/home/kareem/.local/lib/python3.10/site-packages/sklearn/linear_model/_sag.py:350: ConvergenceWarning: The max_iter was reached which means the coef_ did not converge\n",
      "  warnings.warn(\n",
      "/home/kareem/.local/lib/python3.10/site-packages/sklearn/linear_model/_sag.py:350: ConvergenceWarning: The max_iter was reached which means the coef_ did not converge\n",
      "  warnings.warn(\n",
      "/home/kareem/.local/lib/python3.10/site-packages/sklearn/linear_model/_sag.py:350: ConvergenceWarning: The max_iter was reached which means the coef_ did not converge\n",
      "  warnings.warn(\n",
      "/home/kareem/.local/lib/python3.10/site-packages/sklearn/linear_model/_sag.py:350: ConvergenceWarning: The max_iter was reached which means the coef_ did not converge\n",
      "  warnings.warn(\n",
      "/home/kareem/.local/lib/python3.10/site-packages/sklearn/linear_model/_sag.py:350: ConvergenceWarning: The max_iter was reached which means the coef_ did not converge\n",
      "  warnings.warn(\n",
      "/home/kareem/.local/lib/python3.10/site-packages/sklearn/linear_model/_sag.py:350: ConvergenceWarning: The max_iter was reached which means the coef_ did not converge\n",
      "  warnings.warn(\n",
      "/home/kareem/.local/lib/python3.10/site-packages/sklearn/linear_model/_sag.py:350: ConvergenceWarning: The max_iter was reached which means the coef_ did not converge\n",
      "  warnings.warn(\n",
      "/home/kareem/.local/lib/python3.10/site-packages/sklearn/linear_model/_sag.py:350: ConvergenceWarning: The max_iter was reached which means the coef_ did not converge\n",
      "  warnings.warn(\n",
      "/home/kareem/.local/lib/python3.10/site-packages/sklearn/linear_model/_sag.py:350: ConvergenceWarning: The max_iter was reached which means the coef_ did not converge\n",
      "  warnings.warn(\n",
      "/home/kareem/.local/lib/python3.10/site-packages/sklearn/linear_model/_sag.py:350: ConvergenceWarning: The max_iter was reached which means the coef_ did not converge\n",
      "  warnings.warn(\n",
      "/home/kareem/.local/lib/python3.10/site-packages/sklearn/linear_model/_sag.py:350: ConvergenceWarning: The max_iter was reached which means the coef_ did not converge\n",
      "  warnings.warn(\n",
      "/home/kareem/.local/lib/python3.10/site-packages/sklearn/linear_model/_sag.py:350: ConvergenceWarning: The max_iter was reached which means the coef_ did not converge\n",
      "  warnings.warn(\n",
      "/home/kareem/.local/lib/python3.10/site-packages/sklearn/linear_model/_sag.py:350: ConvergenceWarning: The max_iter was reached which means the coef_ did not converge\n",
      "  warnings.warn(\n",
      "/home/kareem/.local/lib/python3.10/site-packages/sklearn/linear_model/_sag.py:350: ConvergenceWarning: The max_iter was reached which means the coef_ did not converge\n",
      "  warnings.warn(\n",
      "/home/kareem/.local/lib/python3.10/site-packages/sklearn/linear_model/_sag.py:350: ConvergenceWarning: The max_iter was reached which means the coef_ did not converge\n",
      "  warnings.warn(\n",
      "/home/kareem/.local/lib/python3.10/site-packages/sklearn/linear_model/_sag.py:350: ConvergenceWarning: The max_iter was reached which means the coef_ did not converge\n",
      "  warnings.warn(\n",
      "/home/kareem/.local/lib/python3.10/site-packages/sklearn/linear_model/_sag.py:350: ConvergenceWarning: The max_iter was reached which means the coef_ did not converge\n",
      "  warnings.warn(\n",
      "/home/kareem/.local/lib/python3.10/site-packages/sklearn/linear_model/_sag.py:350: ConvergenceWarning: The max_iter was reached which means the coef_ did not converge\n",
      "  warnings.warn(\n"
     ]
    },
    {
     "name": "stdout",
     "output_type": "stream",
     "text": [
      "Best classification accuracy of Logistic Regression models: 0.8714285714285713\n",
      "Parameters of the best Logistic Regression model: {'C': 1, 'class_weight': 'balanced', 'penalty': 'l1', 'solver': 'liblinear'}\n"
     ]
    },
    {
     "name": "stderr",
     "output_type": "stream",
     "text": [
      "/home/kareem/.local/lib/python3.10/site-packages/sklearn/linear_model/_sag.py:350: ConvergenceWarning: The max_iter was reached which means the coef_ did not converge\n",
      "  warnings.warn(\n",
      "/home/kareem/.local/lib/python3.10/site-packages/sklearn/linear_model/_sag.py:350: ConvergenceWarning: The max_iter was reached which means the coef_ did not converge\n",
      "  warnings.warn(\n",
      "/home/kareem/.local/lib/python3.10/site-packages/sklearn/linear_model/_sag.py:350: ConvergenceWarning: The max_iter was reached which means the coef_ did not converge\n",
      "  warnings.warn(\n",
      "/home/kareem/.local/lib/python3.10/site-packages/sklearn/linear_model/_sag.py:350: ConvergenceWarning: The max_iter was reached which means the coef_ did not converge\n",
      "  warnings.warn(\n",
      "/home/kareem/.local/lib/python3.10/site-packages/sklearn/linear_model/_sag.py:350: ConvergenceWarning: The max_iter was reached which means the coef_ did not converge\n",
      "  warnings.warn(\n",
      "/home/kareem/.local/lib/python3.10/site-packages/sklearn/linear_model/_sag.py:350: ConvergenceWarning: The max_iter was reached which means the coef_ did not converge\n",
      "  warnings.warn(\n",
      "/home/kareem/.local/lib/python3.10/site-packages/sklearn/linear_model/_sag.py:350: ConvergenceWarning: The max_iter was reached which means the coef_ did not converge\n",
      "  warnings.warn(\n",
      "/home/kareem/.local/lib/python3.10/site-packages/sklearn/linear_model/_sag.py:350: ConvergenceWarning: The max_iter was reached which means the coef_ did not converge\n",
      "  warnings.warn(\n",
      "/home/kareem/.local/lib/python3.10/site-packages/sklearn/linear_model/_sag.py:350: ConvergenceWarning: The max_iter was reached which means the coef_ did not converge\n",
      "  warnings.warn(\n",
      "/home/kareem/.local/lib/python3.10/site-packages/sklearn/linear_model/_sag.py:350: ConvergenceWarning: The max_iter was reached which means the coef_ did not converge\n",
      "  warnings.warn(\n",
      "/home/kareem/.local/lib/python3.10/site-packages/sklearn/linear_model/_sag.py:350: ConvergenceWarning: The max_iter was reached which means the coef_ did not converge\n",
      "  warnings.warn(\n",
      "/home/kareem/.local/lib/python3.10/site-packages/sklearn/linear_model/_sag.py:350: ConvergenceWarning: The max_iter was reached which means the coef_ did not converge\n",
      "  warnings.warn(\n",
      "/home/kareem/.local/lib/python3.10/site-packages/sklearn/linear_model/_sag.py:350: ConvergenceWarning: The max_iter was reached which means the coef_ did not converge\n",
      "  warnings.warn(\n",
      "/home/kareem/.local/lib/python3.10/site-packages/sklearn/linear_model/_sag.py:350: ConvergenceWarning: The max_iter was reached which means the coef_ did not converge\n",
      "  warnings.warn(\n",
      "/home/kareem/.local/lib/python3.10/site-packages/sklearn/linear_model/_sag.py:350: ConvergenceWarning: The max_iter was reached which means the coef_ did not converge\n",
      "  warnings.warn(\n",
      "/home/kareem/.local/lib/python3.10/site-packages/sklearn/linear_model/_sag.py:350: ConvergenceWarning: The max_iter was reached which means the coef_ did not converge\n",
      "  warnings.warn(\n",
      "/home/kareem/.local/lib/python3.10/site-packages/sklearn/linear_model/_sag.py:350: ConvergenceWarning: The max_iter was reached which means the coef_ did not converge\n",
      "  warnings.warn(\n",
      "/home/kareem/.local/lib/python3.10/site-packages/sklearn/linear_model/_sag.py:350: ConvergenceWarning: The max_iter was reached which means the coef_ did not converge\n",
      "  warnings.warn(\n",
      "/home/kareem/.local/lib/python3.10/site-packages/sklearn/linear_model/_sag.py:350: ConvergenceWarning: The max_iter was reached which means the coef_ did not converge\n",
      "  warnings.warn(\n",
      "/home/kareem/.local/lib/python3.10/site-packages/sklearn/linear_model/_sag.py:350: ConvergenceWarning: The max_iter was reached which means the coef_ did not converge\n",
      "  warnings.warn(\n",
      "/home/kareem/.local/lib/python3.10/site-packages/sklearn/linear_model/_sag.py:350: ConvergenceWarning: The max_iter was reached which means the coef_ did not converge\n",
      "  warnings.warn(\n",
      "/home/kareem/.local/lib/python3.10/site-packages/sklearn/linear_model/_sag.py:350: ConvergenceWarning: The max_iter was reached which means the coef_ did not converge\n",
      "  warnings.warn(\n",
      "/home/kareem/.local/lib/python3.10/site-packages/sklearn/linear_model/_sag.py:350: ConvergenceWarning: The max_iter was reached which means the coef_ did not converge\n",
      "  warnings.warn(\n",
      "/home/kareem/.local/lib/python3.10/site-packages/sklearn/linear_model/_sag.py:350: ConvergenceWarning: The max_iter was reached which means the coef_ did not converge\n",
      "  warnings.warn(\n"
     ]
    }
   ],
   "source": [
    "X = df_pca\n",
    "y\n",
    "lor_param_grid = [\n",
    "    {\n",
    "        'C':[1, 10, 100, 1000], 'penalty': ['l1'],\n",
    "        'solver': ['liblinear', 'saga'],\n",
    "        'class_weight': [None, 'balanced']\n",
    "    },\n",
    "    {\n",
    "        'C':[1, 10, 100, 1000], 'penalty': ['l2'],\n",
    "        'solver': ['newton-cg', 'lbfgs', 'sag'],\n",
    "        'class_weight': [None, 'balanced']\n",
    "    }\n",
    "]\n",
    "\n",
    "lor = LogisticRegression(max_iter=1000)\n",
    "\n",
    "classify(X, y, lor, lor_param_grid, 'Logistic Regression')"
   ]
  },
  {
   "cell_type": "markdown",
   "id": "9046f1f3",
   "metadata": {},
   "source": [
    "**Train Logistic Regression Model**"
   ]
  },
  {
   "cell_type": "code",
   "execution_count": 187,
   "id": "eec06415",
   "metadata": {},
   "outputs": [],
   "source": [
    "X_train, X_test, y_train, y_test = train_test_split(X, y, test_size=0.1, random_state=123)"
   ]
  },
  {
   "cell_type": "code",
   "execution_count": 188,
   "id": "40734ba4",
   "metadata": {},
   "outputs": [],
   "source": [
    "logistic_model = LogisticRegression(max_iter=1000, C=1, class_weight='balanced', penalty='l1', solver='liblinear')"
   ]
  },
  {
   "cell_type": "code",
   "execution_count": 189,
   "id": "cd3c7dc0",
   "metadata": {},
   "outputs": [
    {
     "data": {
      "text/html": [
       "<style>#sk-container-id-5 {color: black;background-color: white;}#sk-container-id-5 pre{padding: 0;}#sk-container-id-5 div.sk-toggleable {background-color: white;}#sk-container-id-5 label.sk-toggleable__label {cursor: pointer;display: block;width: 100%;margin-bottom: 0;padding: 0.3em;box-sizing: border-box;text-align: center;}#sk-container-id-5 label.sk-toggleable__label-arrow:before {content: \"▸\";float: left;margin-right: 0.25em;color: #696969;}#sk-container-id-5 label.sk-toggleable__label-arrow:hover:before {color: black;}#sk-container-id-5 div.sk-estimator:hover label.sk-toggleable__label-arrow:before {color: black;}#sk-container-id-5 div.sk-toggleable__content {max-height: 0;max-width: 0;overflow: hidden;text-align: left;background-color: #f0f8ff;}#sk-container-id-5 div.sk-toggleable__content pre {margin: 0.2em;color: black;border-radius: 0.25em;background-color: #f0f8ff;}#sk-container-id-5 input.sk-toggleable__control:checked~div.sk-toggleable__content {max-height: 200px;max-width: 100%;overflow: auto;}#sk-container-id-5 input.sk-toggleable__control:checked~label.sk-toggleable__label-arrow:before {content: \"▾\";}#sk-container-id-5 div.sk-estimator input.sk-toggleable__control:checked~label.sk-toggleable__label {background-color: #d4ebff;}#sk-container-id-5 div.sk-label input.sk-toggleable__control:checked~label.sk-toggleable__label {background-color: #d4ebff;}#sk-container-id-5 input.sk-hidden--visually {border: 0;clip: rect(1px 1px 1px 1px);clip: rect(1px, 1px, 1px, 1px);height: 1px;margin: -1px;overflow: hidden;padding: 0;position: absolute;width: 1px;}#sk-container-id-5 div.sk-estimator {font-family: monospace;background-color: #f0f8ff;border: 1px dotted black;border-radius: 0.25em;box-sizing: border-box;margin-bottom: 0.5em;}#sk-container-id-5 div.sk-estimator:hover {background-color: #d4ebff;}#sk-container-id-5 div.sk-parallel-item::after {content: \"\";width: 100%;border-bottom: 1px solid gray;flex-grow: 1;}#sk-container-id-5 div.sk-label:hover label.sk-toggleable__label {background-color: #d4ebff;}#sk-container-id-5 div.sk-serial::before {content: \"\";position: absolute;border-left: 1px solid gray;box-sizing: border-box;top: 0;bottom: 0;left: 50%;z-index: 0;}#sk-container-id-5 div.sk-serial {display: flex;flex-direction: column;align-items: center;background-color: white;padding-right: 0.2em;padding-left: 0.2em;position: relative;}#sk-container-id-5 div.sk-item {position: relative;z-index: 1;}#sk-container-id-5 div.sk-parallel {display: flex;align-items: stretch;justify-content: center;background-color: white;position: relative;}#sk-container-id-5 div.sk-item::before, #sk-container-id-5 div.sk-parallel-item::before {content: \"\";position: absolute;border-left: 1px solid gray;box-sizing: border-box;top: 0;bottom: 0;left: 50%;z-index: -1;}#sk-container-id-5 div.sk-parallel-item {display: flex;flex-direction: column;z-index: 1;position: relative;background-color: white;}#sk-container-id-5 div.sk-parallel-item:first-child::after {align-self: flex-end;width: 50%;}#sk-container-id-5 div.sk-parallel-item:last-child::after {align-self: flex-start;width: 50%;}#sk-container-id-5 div.sk-parallel-item:only-child::after {width: 0;}#sk-container-id-5 div.sk-dashed-wrapped {border: 1px dashed gray;margin: 0 0.4em 0.5em 0.4em;box-sizing: border-box;padding-bottom: 0.4em;background-color: white;}#sk-container-id-5 div.sk-label label {font-family: monospace;font-weight: bold;display: inline-block;line-height: 1.2em;}#sk-container-id-5 div.sk-label-container {text-align: center;}#sk-container-id-5 div.sk-container {/* jupyter's `normalize.less` sets `[hidden] { display: none; }` but bootstrap.min.css set `[hidden] { display: none !important; }` so we also need the `!important` here to be able to override the default hidden behavior on the sphinx rendered scikit-learn.org. See: https://github.com/scikit-learn/scikit-learn/issues/21755 */display: inline-block !important;position: relative;}#sk-container-id-5 div.sk-text-repr-fallback {display: none;}</style><div id=\"sk-container-id-5\" class=\"sk-top-container\"><div class=\"sk-text-repr-fallback\"><pre>LogisticRegression(C=1, class_weight=&#x27;balanced&#x27;, max_iter=1000, penalty=&#x27;l1&#x27;,\n",
       "                   solver=&#x27;liblinear&#x27;)</pre><b>In a Jupyter environment, please rerun this cell to show the HTML representation or trust the notebook. <br />On GitHub, the HTML representation is unable to render, please try loading this page with nbviewer.org.</b></div><div class=\"sk-container\" hidden><div class=\"sk-item\"><div class=\"sk-estimator sk-toggleable\"><input class=\"sk-toggleable__control sk-hidden--visually\" id=\"sk-estimator-id-5\" type=\"checkbox\" checked><label for=\"sk-estimator-id-5\" class=\"sk-toggleable__label sk-toggleable__label-arrow\">LogisticRegression</label><div class=\"sk-toggleable__content\"><pre>LogisticRegression(C=1, class_weight=&#x27;balanced&#x27;, max_iter=1000, penalty=&#x27;l1&#x27;,\n",
       "                   solver=&#x27;liblinear&#x27;)</pre></div></div></div></div></div>"
      ],
      "text/plain": [
       "LogisticRegression(C=1, class_weight='balanced', max_iter=1000, penalty='l1',\n",
       "                   solver='liblinear')"
      ]
     },
     "execution_count": 189,
     "metadata": {},
     "output_type": "execute_result"
    }
   ],
   "source": [
    "logistic_model.fit(X_train, y_train)"
   ]
  },
  {
   "cell_type": "code",
   "execution_count": 190,
   "id": "0af04b91",
   "metadata": {},
   "outputs": [
    {
     "name": "stdout",
     "output_type": "stream",
     "text": [
      "Accuracy: 1.0\n",
      "\n"
     ]
    }
   ],
   "source": [
    "y_pred = logistic_model.predict(X_test)\n",
    "\n",
    "print('Accuracy: {}\\n'.format(accuracy_score(y_test, y_pred)))"
   ]
  },
  {
   "cell_type": "code",
   "execution_count": 191,
   "id": "e0683dfc",
   "metadata": {},
   "outputs": [
    {
     "name": "stdout",
     "output_type": "stream",
     "text": [
      "              precision    recall  f1-score   support\n",
      "\n",
      "           0       1.00      1.00      1.00         2\n",
      "           1       1.00      1.00      1.00         2\n",
      "\n",
      "    accuracy                           1.00         4\n",
      "   macro avg       1.00      1.00      1.00         4\n",
      "weighted avg       1.00      1.00      1.00         4\n",
      "\n"
     ]
    }
   ],
   "source": [
    "print(classification_report(y_test, y_pred, target_names=[str(i) for i in set(y_test)]))"
   ]
  },
  {
   "cell_type": "markdown",
   "id": "2dbfd41a",
   "metadata": {},
   "source": [
    "**Train a SVM model**"
   ]
  },
  {
   "cell_type": "code",
   "execution_count": 192,
   "id": "e1b276f5",
   "metadata": {},
   "outputs": [],
   "source": [
    "X_train, X_test, y_train, y_test = train_test_split(X, y, test_size=0.1, random_state=123)"
   ]
  },
  {
   "cell_type": "code",
   "execution_count": 193,
   "id": "2e7d40f1",
   "metadata": {},
   "outputs": [],
   "source": [
    "svm_model = svm.SVC(C=1, class_weight=\"balanced\", degree=1, kernel='poly', gamma='scale')"
   ]
  },
  {
   "cell_type": "code",
   "execution_count": 194,
   "id": "85a04542",
   "metadata": {},
   "outputs": [
    {
     "data": {
      "text/html": [
       "<style>#sk-container-id-6 {color: black;background-color: white;}#sk-container-id-6 pre{padding: 0;}#sk-container-id-6 div.sk-toggleable {background-color: white;}#sk-container-id-6 label.sk-toggleable__label {cursor: pointer;display: block;width: 100%;margin-bottom: 0;padding: 0.3em;box-sizing: border-box;text-align: center;}#sk-container-id-6 label.sk-toggleable__label-arrow:before {content: \"▸\";float: left;margin-right: 0.25em;color: #696969;}#sk-container-id-6 label.sk-toggleable__label-arrow:hover:before {color: black;}#sk-container-id-6 div.sk-estimator:hover label.sk-toggleable__label-arrow:before {color: black;}#sk-container-id-6 div.sk-toggleable__content {max-height: 0;max-width: 0;overflow: hidden;text-align: left;background-color: #f0f8ff;}#sk-container-id-6 div.sk-toggleable__content pre {margin: 0.2em;color: black;border-radius: 0.25em;background-color: #f0f8ff;}#sk-container-id-6 input.sk-toggleable__control:checked~div.sk-toggleable__content {max-height: 200px;max-width: 100%;overflow: auto;}#sk-container-id-6 input.sk-toggleable__control:checked~label.sk-toggleable__label-arrow:before {content: \"▾\";}#sk-container-id-6 div.sk-estimator input.sk-toggleable__control:checked~label.sk-toggleable__label {background-color: #d4ebff;}#sk-container-id-6 div.sk-label input.sk-toggleable__control:checked~label.sk-toggleable__label {background-color: #d4ebff;}#sk-container-id-6 input.sk-hidden--visually {border: 0;clip: rect(1px 1px 1px 1px);clip: rect(1px, 1px, 1px, 1px);height: 1px;margin: -1px;overflow: hidden;padding: 0;position: absolute;width: 1px;}#sk-container-id-6 div.sk-estimator {font-family: monospace;background-color: #f0f8ff;border: 1px dotted black;border-radius: 0.25em;box-sizing: border-box;margin-bottom: 0.5em;}#sk-container-id-6 div.sk-estimator:hover {background-color: #d4ebff;}#sk-container-id-6 div.sk-parallel-item::after {content: \"\";width: 100%;border-bottom: 1px solid gray;flex-grow: 1;}#sk-container-id-6 div.sk-label:hover label.sk-toggleable__label {background-color: #d4ebff;}#sk-container-id-6 div.sk-serial::before {content: \"\";position: absolute;border-left: 1px solid gray;box-sizing: border-box;top: 0;bottom: 0;left: 50%;z-index: 0;}#sk-container-id-6 div.sk-serial {display: flex;flex-direction: column;align-items: center;background-color: white;padding-right: 0.2em;padding-left: 0.2em;position: relative;}#sk-container-id-6 div.sk-item {position: relative;z-index: 1;}#sk-container-id-6 div.sk-parallel {display: flex;align-items: stretch;justify-content: center;background-color: white;position: relative;}#sk-container-id-6 div.sk-item::before, #sk-container-id-6 div.sk-parallel-item::before {content: \"\";position: absolute;border-left: 1px solid gray;box-sizing: border-box;top: 0;bottom: 0;left: 50%;z-index: -1;}#sk-container-id-6 div.sk-parallel-item {display: flex;flex-direction: column;z-index: 1;position: relative;background-color: white;}#sk-container-id-6 div.sk-parallel-item:first-child::after {align-self: flex-end;width: 50%;}#sk-container-id-6 div.sk-parallel-item:last-child::after {align-self: flex-start;width: 50%;}#sk-container-id-6 div.sk-parallel-item:only-child::after {width: 0;}#sk-container-id-6 div.sk-dashed-wrapped {border: 1px dashed gray;margin: 0 0.4em 0.5em 0.4em;box-sizing: border-box;padding-bottom: 0.4em;background-color: white;}#sk-container-id-6 div.sk-label label {font-family: monospace;font-weight: bold;display: inline-block;line-height: 1.2em;}#sk-container-id-6 div.sk-label-container {text-align: center;}#sk-container-id-6 div.sk-container {/* jupyter's `normalize.less` sets `[hidden] { display: none; }` but bootstrap.min.css set `[hidden] { display: none !important; }` so we also need the `!important` here to be able to override the default hidden behavior on the sphinx rendered scikit-learn.org. See: https://github.com/scikit-learn/scikit-learn/issues/21755 */display: inline-block !important;position: relative;}#sk-container-id-6 div.sk-text-repr-fallback {display: none;}</style><div id=\"sk-container-id-6\" class=\"sk-top-container\"><div class=\"sk-text-repr-fallback\"><pre>SVC(C=1, class_weight=&#x27;balanced&#x27;, degree=1, kernel=&#x27;poly&#x27;)</pre><b>In a Jupyter environment, please rerun this cell to show the HTML representation or trust the notebook. <br />On GitHub, the HTML representation is unable to render, please try loading this page with nbviewer.org.</b></div><div class=\"sk-container\" hidden><div class=\"sk-item\"><div class=\"sk-estimator sk-toggleable\"><input class=\"sk-toggleable__control sk-hidden--visually\" id=\"sk-estimator-id-6\" type=\"checkbox\" checked><label for=\"sk-estimator-id-6\" class=\"sk-toggleable__label sk-toggleable__label-arrow\">SVC</label><div class=\"sk-toggleable__content\"><pre>SVC(C=1, class_weight=&#x27;balanced&#x27;, degree=1, kernel=&#x27;poly&#x27;)</pre></div></div></div></div></div>"
      ],
      "text/plain": [
       "SVC(C=1, class_weight='balanced', degree=1, kernel='poly')"
      ]
     },
     "execution_count": 194,
     "metadata": {},
     "output_type": "execute_result"
    }
   ],
   "source": [
    "svm_model.fit(X_train, y_train)"
   ]
  },
  {
   "cell_type": "code",
   "execution_count": 195,
   "id": "68e94cab",
   "metadata": {},
   "outputs": [
    {
     "name": "stdout",
     "output_type": "stream",
     "text": [
      "Accuracy: 1.0\n",
      "\n"
     ]
    }
   ],
   "source": [
    "y_pred = svm_model.predict(X_test)\n",
    "\n",
    "print('Accuracy: {}\\n'.format(accuracy_score(y_test, y_pred)))"
   ]
  },
  {
   "cell_type": "code",
   "execution_count": 196,
   "id": "812b0c49",
   "metadata": {},
   "outputs": [
    {
     "name": "stdout",
     "output_type": "stream",
     "text": [
      "              precision    recall  f1-score   support\n",
      "\n",
      "           0       1.00      1.00      1.00         2\n",
      "           1       1.00      1.00      1.00         2\n",
      "\n",
      "    accuracy                           1.00         4\n",
      "   macro avg       1.00      1.00      1.00         4\n",
      "weighted avg       1.00      1.00      1.00         4\n",
      "\n"
     ]
    }
   ],
   "source": [
    "print(classification_report(y_test, y_pred, target_names=[str(i) for i in set(y_test)]))"
   ]
  },
  {
   "cell_type": "code",
   "execution_count": 197,
   "id": "a4594521",
   "metadata": {},
   "outputs": [
    {
     "data": {
      "text/plain": [
       "<sklearn.metrics._plot.confusion_matrix.ConfusionMatrixDisplay at 0x7fdf9ef31060>"
      ]
     },
     "execution_count": 197,
     "metadata": {},
     "output_type": "execute_result"
    },
    {
     "data": {
      "image/png": "[encoded data removed]",
      "text/plain": [
       "<Figure size 640x480 with 2 Axes>"
      ]
     },
     "metadata": {},
     "output_type": "display_data"
    }
   ],
   "source": [
    "ConfusionMatrixDisplay.from_estimator(svm_model, X_test, y_test, cmap=\"BuGn_r\")"
   ]
  },
  {
   "cell_type": "code",
   "execution_count": 198,
   "id": "27003e41",
   "metadata": {},
   "outputs": [
    {
     "data": {
      "text/plain": [
       "<sklearn.metrics._plot.confusion_matrix.ConfusionMatrixDisplay at 0x7fdf891a4c10>"
      ]
     },
     "execution_count": 198,
     "metadata": {},
     "output_type": "execute_result"
    },
    {
     "data": {
      "image/png": "[encoded data removed]",
      "text/plain": [
       "<Figure size 640x480 with 2 Axes>"
      ]
     },
     "metadata": {},
     "output_type": "display_data"
    }
   ],
   "source": [
    "ConfusionMatrixDisplay.from_estimator(svm_model, X_test, y_test, cmap=\"BuGn_r\", normalize='true')"
   ]
  },
  {
   "cell_type": "markdown",
   "id": "171c0d3c",
   "metadata": {},
   "source": [
    "### Try On Evaluation Data (Unseen Data)"
   ]
  },
  {
   "cell_type": "code",
   "execution_count": 222,
   "id": "e5542f9a",
   "metadata": {},
   "outputs": [
    {
     "data": {
      "text/html": [
       "<div>\n",
       "<style scoped>\n",
       "    .dataframe tbody tr th:only-of-type {\n",
       "        vertical-align: middle;\n",
       "    }\n",
       "\n",
       "    .dataframe tbody tr th {\n",
       "        vertical-align: top;\n",
       "    }\n",
       "\n",
       "    .dataframe thead th {\n",
       "        text-align: right;\n",
       "    }\n",
       "</style>\n",
       "<table border=\"1\" class=\"dataframe\">\n",
       "  <thead>\n",
       "    <tr style=\"text-align: right;\">\n",
       "      <th></th>\n",
       "      <th>0</th>\n",
       "      <th>1</th>\n",
       "      <th>2</th>\n",
       "      <th>3</th>\n",
       "      <th>4</th>\n",
       "      <th>5</th>\n",
       "      <th>6</th>\n",
       "      <th>7</th>\n",
       "      <th>8</th>\n",
       "      <th>9</th>\n",
       "      <th>...</th>\n",
       "      <th>7121</th>\n",
       "      <th>7122</th>\n",
       "      <th>7123</th>\n",
       "      <th>7124</th>\n",
       "      <th>7125</th>\n",
       "      <th>7126</th>\n",
       "      <th>7127</th>\n",
       "      <th>7128</th>\n",
       "      <th>7129</th>\n",
       "      <th>7130</th>\n",
       "    </tr>\n",
       "  </thead>\n",
       "  <tbody>\n",
       "    <tr>\n",
       "      <th>0</th>\n",
       "      <td>-1.0</td>\n",
       "      <td>NaN</td>\n",
       "      <td>1:-0.166517</td>\n",
       "      <td>2:0.052046</td>\n",
       "      <td>3:-1.070700</td>\n",
       "      <td>4:-0.648658</td>\n",
       "      <td>5:0.053614</td>\n",
       "      <td>6:-0.305350</td>\n",
       "      <td>7:0.234992</td>\n",
       "      <td>8:0.072009</td>\n",
       "      <td>...</td>\n",
       "      <td>7120:0.620755</td>\n",
       "      <td>7121:-0.391606</td>\n",
       "      <td>7122:-0.005895</td>\n",
       "      <td>7123:-0.297269</td>\n",
       "      <td>7124:-0.342222</td>\n",
       "      <td>7125:-0.090475</td>\n",
       "      <td>7126:-0.203522</td>\n",
       "      <td>7127:0.149536</td>\n",
       "      <td>7128:1.487240</td>\n",
       "      <td>7129:-0.005093</td>\n",
       "    </tr>\n",
       "    <tr>\n",
       "      <th>1</th>\n",
       "      <td>-1.0</td>\n",
       "      <td>NaN</td>\n",
       "      <td>1:-0.512385</td>\n",
       "      <td>2:-0.326583</td>\n",
       "      <td>3:-0.091035</td>\n",
       "      <td>4:-0.544038</td>\n",
       "      <td>5:-0.423428</td>\n",
       "      <td>6:0.181073</td>\n",
       "      <td>7:0.114432</td>\n",
       "      <td>8:-0.100619</td>\n",
       "      <td>...</td>\n",
       "      <td>7120:-0.109760</td>\n",
       "      <td>7121:-0.407867</td>\n",
       "      <td>7122:0.621030</td>\n",
       "      <td>7123:0.025075</td>\n",
       "      <td>7124:0.318296</td>\n",
       "      <td>7125:-0.316352</td>\n",
       "      <td>7126:-0.533730</td>\n",
       "      <td>7127:0.180162</td>\n",
       "      <td>7128:0.701266</td>\n",
       "      <td>7129:-0.305400</td>\n",
       "    </tr>\n",
       "    <tr>\n",
       "      <th>2</th>\n",
       "      <td>-1.0</td>\n",
       "      <td>NaN</td>\n",
       "      <td>1:-0.213418</td>\n",
       "      <td>2:0.415821</td>\n",
       "      <td>3:-0.361252</td>\n",
       "      <td>4:-0.518195</td>\n",
       "      <td>5:0.849277</td>\n",
       "      <td>6:0.098356</td>\n",
       "      <td>7:0.356660</td>\n",
       "      <td>8:0.246515</td>\n",
       "      <td>...</td>\n",
       "      <td>7120:0.314869</td>\n",
       "      <td>7121:-0.177263</td>\n",
       "      <td>7122:0.504662</td>\n",
       "      <td>7123:0.598846</td>\n",
       "      <td>7124:-0.196550</td>\n",
       "      <td>7125:-0.026478</td>\n",
       "      <td>7126:0.295522</td>\n",
       "      <td>7127:1.001600</td>\n",
       "      <td>7128:-0.390027</td>\n",
       "      <td>7129:-0.624770</td>\n",
       "    </tr>\n",
       "    <tr>\n",
       "      <th>3</th>\n",
       "      <td>-1.0</td>\n",
       "      <td>NaN</td>\n",
       "      <td>1:-0.724510</td>\n",
       "      <td>2:-0.359479</td>\n",
       "      <td>3:-0.847507</td>\n",
       "      <td>4:-0.334803</td>\n",
       "      <td>5:0.061456</td>\n",
       "      <td>6:-0.754015</td>\n",
       "      <td>7:0.554580</td>\n",
       "      <td>8:-0.141748</td>\n",
       "      <td>...</td>\n",
       "      <td>7120:-0.073903</td>\n",
       "      <td>7121:-0.230620</td>\n",
       "      <td>7122:0.558195</td>\n",
       "      <td>7123:-0.092943</td>\n",
       "      <td>7124:0.571481</td>\n",
       "      <td>7125:0.206074</td>\n",
       "      <td>7126:0.258881</td>\n",
       "      <td>7127:0.222557</td>\n",
       "      <td>7128:-0.733495</td>\n",
       "      <td>7129:-0.821411</td>\n",
       "    </tr>\n",
       "  </tbody>\n",
       "</table>\n",
       "<p>4 rows × 7131 columns</p>\n",
       "</div>"
      ],
      "text/plain": [
       "   0     1            2            3            4            5      \n",
       "0  -1.0   NaN  1:-0.166517   2:0.052046  3:-1.070700  4:-0.648658  \\\n",
       "1  -1.0   NaN  1:-0.512385  2:-0.326583  3:-0.091035  4:-0.544038   \n",
       "2  -1.0   NaN  1:-0.213418   2:0.415821  3:-0.361252  4:-0.518195   \n",
       "3  -1.0   NaN  1:-0.724510  2:-0.359479  3:-0.847507  4:-0.334803   \n",
       "\n",
       "          6            7           8            9     ...            7121   \n",
       "0   5:0.053614  6:-0.305350  7:0.234992   8:0.072009  ...   7120:0.620755  \\\n",
       "1  5:-0.423428   6:0.181073  7:0.114432  8:-0.100619  ...  7120:-0.109760   \n",
       "2   5:0.849277   6:0.098356  7:0.356660   8:0.246515  ...   7120:0.314869   \n",
       "3   5:0.061456  6:-0.754015  7:0.554580  8:-0.141748  ...  7120:-0.073903   \n",
       "\n",
       "             7122            7123            7124            7125   \n",
       "0  7121:-0.391606  7122:-0.005895  7123:-0.297269  7124:-0.342222  \\\n",
       "1  7121:-0.407867   7122:0.621030   7123:0.025075   7124:0.318296   \n",
       "2  7121:-0.177263   7122:0.504662   7123:0.598846  7124:-0.196550   \n",
       "3  7121:-0.230620   7122:0.558195  7123:-0.092943   7124:0.571481   \n",
       "\n",
       "             7126            7127           7128            7129   \n",
       "0  7125:-0.090475  7126:-0.203522  7127:0.149536   7128:1.487240  \\\n",
       "1  7125:-0.316352  7126:-0.533730  7127:0.180162   7128:0.701266   \n",
       "2  7125:-0.026478   7126:0.295522  7127:1.001600  7128:-0.390027   \n",
       "3   7125:0.206074   7126:0.258881  7127:0.222557  7128:-0.733495   \n",
       "\n",
       "             7130  \n",
       "0  7129:-0.005093  \n",
       "1  7129:-0.305400  \n",
       "2  7129:-0.624770  \n",
       "3  7129:-0.821411  \n",
       "\n",
       "[4 rows x 7131 columns]"
      ]
     },
     "execution_count": 222,
     "metadata": {},
     "output_type": "execute_result"
    }
   ],
   "source": [
    "df_val = pd.read_csv(\"ds/duke.val\", sep=\" \", header=None)\n",
    "df_val.head()"
   ]
  },
  {
   "cell_type": "code",
   "execution_count": 223,
   "id": "6d5cf418",
   "metadata": {},
   "outputs": [],
   "source": [
    "df_val = df_cleaner(df_val)"
   ]
  },
  {
   "cell_type": "code",
   "execution_count": 224,
   "id": "1653e323",
   "metadata": {},
   "outputs": [
    {
     "data": {
      "text/html": [
       "<div>\n",
       "<style scoped>\n",
       "    .dataframe tbody tr th:only-of-type {\n",
       "        vertical-align: middle;\n",
       "    }\n",
       "\n",
       "    .dataframe tbody tr th {\n",
       "        vertical-align: top;\n",
       "    }\n",
       "\n",
       "    .dataframe thead th {\n",
       "        text-align: right;\n",
       "    }\n",
       "</style>\n",
       "<table border=\"1\" class=\"dataframe\">\n",
       "  <thead>\n",
       "    <tr style=\"text-align: right;\">\n",
       "      <th></th>\n",
       "      <th>0</th>\n",
       "      <th>1</th>\n",
       "      <th>2</th>\n",
       "      <th>3</th>\n",
       "      <th>4</th>\n",
       "      <th>5</th>\n",
       "      <th>6</th>\n",
       "      <th>7</th>\n",
       "      <th>8</th>\n",
       "      <th>9</th>\n",
       "      <th>...</th>\n",
       "      <th>7120</th>\n",
       "      <th>7121</th>\n",
       "      <th>7122</th>\n",
       "      <th>7123</th>\n",
       "      <th>7124</th>\n",
       "      <th>7125</th>\n",
       "      <th>7126</th>\n",
       "      <th>7127</th>\n",
       "      <th>7128</th>\n",
       "      <th>class</th>\n",
       "    </tr>\n",
       "  </thead>\n",
       "  <tbody>\n",
       "    <tr>\n",
       "      <th>0</th>\n",
       "      <td>-0.166517</td>\n",
       "      <td>0.052046</td>\n",
       "      <td>-1.070700</td>\n",
       "      <td>-0.648658</td>\n",
       "      <td>0.053614</td>\n",
       "      <td>-0.305350</td>\n",
       "      <td>0.234992</td>\n",
       "      <td>0.072009</td>\n",
       "      <td>-0.095505</td>\n",
       "      <td>-0.222300</td>\n",
       "      <td>...</td>\n",
       "      <td>-0.391606</td>\n",
       "      <td>-0.005895</td>\n",
       "      <td>-0.297269</td>\n",
       "      <td>-0.342222</td>\n",
       "      <td>-0.090475</td>\n",
       "      <td>-0.203522</td>\n",
       "      <td>0.149536</td>\n",
       "      <td>1.487240</td>\n",
       "      <td>-0.005093</td>\n",
       "      <td>0</td>\n",
       "    </tr>\n",
       "    <tr>\n",
       "      <th>1</th>\n",
       "      <td>-0.512385</td>\n",
       "      <td>-0.326583</td>\n",
       "      <td>-0.091035</td>\n",
       "      <td>-0.544038</td>\n",
       "      <td>-0.423428</td>\n",
       "      <td>0.181073</td>\n",
       "      <td>0.114432</td>\n",
       "      <td>-0.100619</td>\n",
       "      <td>0.127291</td>\n",
       "      <td>-0.561614</td>\n",
       "      <td>...</td>\n",
       "      <td>-0.407867</td>\n",
       "      <td>0.621030</td>\n",
       "      <td>0.025075</td>\n",
       "      <td>0.318296</td>\n",
       "      <td>-0.316352</td>\n",
       "      <td>-0.533730</td>\n",
       "      <td>0.180162</td>\n",
       "      <td>0.701266</td>\n",
       "      <td>-0.305400</td>\n",
       "      <td>0</td>\n",
       "    </tr>\n",
       "    <tr>\n",
       "      <th>2</th>\n",
       "      <td>-0.213418</td>\n",
       "      <td>0.415821</td>\n",
       "      <td>-0.361252</td>\n",
       "      <td>-0.518195</td>\n",
       "      <td>0.849277</td>\n",
       "      <td>0.098356</td>\n",
       "      <td>0.356660</td>\n",
       "      <td>0.246515</td>\n",
       "      <td>-0.104445</td>\n",
       "      <td>-0.278376</td>\n",
       "      <td>...</td>\n",
       "      <td>-0.177263</td>\n",
       "      <td>0.504662</td>\n",
       "      <td>0.598846</td>\n",
       "      <td>-0.196550</td>\n",
       "      <td>-0.026478</td>\n",
       "      <td>0.295522</td>\n",
       "      <td>1.001600</td>\n",
       "      <td>-0.390027</td>\n",
       "      <td>-0.624770</td>\n",
       "      <td>0</td>\n",
       "    </tr>\n",
       "    <tr>\n",
       "      <th>3</th>\n",
       "      <td>-0.724510</td>\n",
       "      <td>-0.359479</td>\n",
       "      <td>-0.847507</td>\n",
       "      <td>-0.334803</td>\n",
       "      <td>0.061456</td>\n",
       "      <td>-0.754015</td>\n",
       "      <td>0.554580</td>\n",
       "      <td>-0.141748</td>\n",
       "      <td>-0.542664</td>\n",
       "      <td>-0.958846</td>\n",
       "      <td>...</td>\n",
       "      <td>-0.230620</td>\n",
       "      <td>0.558195</td>\n",
       "      <td>-0.092943</td>\n",
       "      <td>0.571481</td>\n",
       "      <td>0.206074</td>\n",
       "      <td>0.258881</td>\n",
       "      <td>0.222557</td>\n",
       "      <td>-0.733495</td>\n",
       "      <td>-0.821411</td>\n",
       "      <td>0</td>\n",
       "    </tr>\n",
       "  </tbody>\n",
       "</table>\n",
       "<p>4 rows × 7130 columns</p>\n",
       "</div>"
      ],
      "text/plain": [
       "          0         1         2         3         4         5         6   \n",
       "0 -0.166517  0.052046 -1.070700 -0.648658  0.053614 -0.305350  0.234992  \\\n",
       "1 -0.512385 -0.326583 -0.091035 -0.544038 -0.423428  0.181073  0.114432   \n",
       "2 -0.213418  0.415821 -0.361252 -0.518195  0.849277  0.098356  0.356660   \n",
       "3 -0.724510 -0.359479 -0.847507 -0.334803  0.061456 -0.754015  0.554580   \n",
       "\n",
       "          7         8         9  ...      7120      7121      7122      7123   \n",
       "0  0.072009 -0.095505 -0.222300  ... -0.391606 -0.005895 -0.297269 -0.342222  \\\n",
       "1 -0.100619  0.127291 -0.561614  ... -0.407867  0.621030  0.025075  0.318296   \n",
       "2  0.246515 -0.104445 -0.278376  ... -0.177263  0.504662  0.598846 -0.196550   \n",
       "3 -0.141748 -0.542664 -0.958846  ... -0.230620  0.558195 -0.092943  0.571481   \n",
       "\n",
       "       7124      7125      7126      7127      7128  class  \n",
       "0 -0.090475 -0.203522  0.149536  1.487240 -0.005093      0  \n",
       "1 -0.316352 -0.533730  0.180162  0.701266 -0.305400      0  \n",
       "2 -0.026478  0.295522  1.001600 -0.390027 -0.624770      0  \n",
       "3  0.206074  0.258881  0.222557 -0.733495 -0.821411      0  \n",
       "\n",
       "[4 rows x 7130 columns]"
      ]
     },
     "execution_count": 224,
     "metadata": {},
     "output_type": "execute_result"
    }
   ],
   "source": [
    "df_val.head()"
   ]
  },
  {
   "cell_type": "code",
   "execution_count": 225,
   "id": "9ff7bd6b",
   "metadata": {},
   "outputs": [],
   "source": [
    "X = df_val.loc[:, df_val.columns != \"class\"]\n",
    "y = df_val['class']"
   ]
  },
  {
   "cell_type": "code",
   "execution_count": 226,
   "id": "efbc49e2",
   "metadata": {},
   "outputs": [],
   "source": [
    "std_v = std_scaler.transform(X)\n",
    "\n",
    "df_v_pca = pca.transform(std_v)"
   ]
  },
  {
   "cell_type": "markdown",
   "id": "431716ca",
   "metadata": {},
   "source": [
    "Perform perdiction on SVM"
   ]
  },
  {
   "cell_type": "code",
   "execution_count": 227,
   "id": "58592506",
   "metadata": {},
   "outputs": [],
   "source": [
    "pred = svm_model.predict(df_v_pca)"
   ]
  },
  {
   "cell_type": "code",
   "execution_count": 228,
   "id": "5e5e8b23",
   "metadata": {},
   "outputs": [
    {
     "data": {
      "text/plain": [
       "1.0"
      ]
     },
     "execution_count": 228,
     "metadata": {},
     "output_type": "execute_result"
    }
   ],
   "source": [
    "accuracy_score(y, pred)"
   ]
  },
  {
   "cell_type": "code",
   "execution_count": 229,
   "id": "5c9f1dba",
   "metadata": {},
   "outputs": [
    {
     "name": "stdout",
     "output_type": "stream",
     "text": [
      "              precision    recall  f1-score   support\n",
      "\n",
      "           0       1.00      1.00      1.00         2\n",
      "           1       1.00      1.00      1.00         2\n",
      "\n",
      "    accuracy                           1.00         4\n",
      "   macro avg       1.00      1.00      1.00         4\n",
      "weighted avg       1.00      1.00      1.00         4\n",
      "\n"
     ]
    }
   ],
   "source": [
    "print(classification_report(y_test, y_pred, target_names=[str(i) for i in set(y_test)]))"
   ]
  },
  {
   "cell_type": "code",
   "execution_count": 230,
   "id": "8f6b11f5",
   "metadata": {},
   "outputs": [
    {
     "data": {
      "text/plain": [
       "<sklearn.metrics._plot.confusion_matrix.ConfusionMatrixDisplay at 0x7fdf9deae8f0>"
      ]
     },
     "execution_count": 230,
     "metadata": {},
     "output_type": "execute_result"
    },
    {
     "data": {
      "image/png": "[encoded data removed]",
      "text/plain": [
       "<Figure size 640x480 with 2 Axes>"
      ]
     },
     "metadata": {},
     "output_type": "display_data"
    }
   ],
   "source": [
    "ConfusionMatrixDisplay.from_predictions(y, pred, cmap=\"Blues_r\")"
   ]
  },
  {
   "cell_type": "markdown",
   "id": "764c8afd",
   "metadata": {},
   "source": [
    "Perfom prediction on LogisticRegression"
   ]
  },
  {
   "cell_type": "code",
   "execution_count": 231,
   "id": "026a4a22",
   "metadata": {},
   "outputs": [],
   "source": [
    "pred = logistic_model.predict(df_v_pca)"
   ]
  },
  {
   "cell_type": "code",
   "execution_count": 232,
   "id": "0d6ca3d6",
   "metadata": {},
   "outputs": [
    {
     "data": {
      "text/plain": [
       "1.0"
      ]
     },
     "execution_count": 232,
     "metadata": {},
     "output_type": "execute_result"
    }
   ],
   "source": [
    "accuracy_score(y, pred)"
   ]
  },
  {
   "cell_type": "code",
   "execution_count": 233,
   "id": "d049310d",
   "metadata": {},
   "outputs": [
    {
     "name": "stdout",
     "output_type": "stream",
     "text": [
      "              precision    recall  f1-score   support\n",
      "\n",
      "           0       1.00      1.00      1.00         2\n",
      "           1       1.00      1.00      1.00         2\n",
      "\n",
      "    accuracy                           1.00         4\n",
      "   macro avg       1.00      1.00      1.00         4\n",
      "weighted avg       1.00      1.00      1.00         4\n",
      "\n"
     ]
    }
   ],
   "source": [
    "print(classification_report(y_test, y_pred, target_names=[str(i) for i in set(y_test)]))"
   ]
  },
  {
   "cell_type": "code",
   "execution_count": 234,
   "id": "f4ec553f",
   "metadata": {
    "scrolled": false
   },
   "outputs": [
    {
     "data": {
      "text/plain": [
       "<sklearn.metrics._plot.confusion_matrix.ConfusionMatrixDisplay at 0x7fdf9ee49d80>"
      ]
     },
     "execution_count": 234,
     "metadata": {},
     "output_type": "execute_result"
    },
    {
     "data": {
      "image/png": "[encoded data removed]",
      "text/plain": [
       "<Figure size 640x480 with 2 Axes>"
      ]
     },
     "metadata": {},
     "output_type": "display_data"
    }
   ],
   "source": [
    "ConfusionMatrixDisplay.from_predictions(y, pred, cmap=\"Blues_r\")"
   ]
  },
  {
   "cell_type": "markdown",
   "id": "f5fdfb8f",
   "metadata": {},
   "source": [
    "## Models Performance Comparison"
   ]
  },
  {
   "cell_type": "code",
   "execution_count": 236,
   "id": "2527d168",
   "metadata": {},
   "outputs": [
    {
     "data": {
      "text/html": [
       "<div>\n",
       "<style scoped>\n",
       "    .dataframe tbody tr th:only-of-type {\n",
       "        vertical-align: middle;\n",
       "    }\n",
       "\n",
       "    .dataframe tbody tr th {\n",
       "        vertical-align: top;\n",
       "    }\n",
       "\n",
       "    .dataframe thead th {\n",
       "        text-align: right;\n",
       "    }\n",
       "</style>\n",
       "<table border=\"1\" class=\"dataframe\">\n",
       "  <thead>\n",
       "    <tr style=\"text-align: right;\">\n",
       "      <th></th>\n",
       "      <th>Models</th>\n",
       "      <th>Score</th>\n",
       "      <th>evaluation</th>\n",
       "    </tr>\n",
       "  </thead>\n",
       "  <tbody>\n",
       "    <tr>\n",
       "      <th>0</th>\n",
       "      <td>Logestic Regression</td>\n",
       "      <td>1.0</td>\n",
       "      <td>1.0</td>\n",
       "    </tr>\n",
       "    <tr>\n",
       "      <th>1</th>\n",
       "      <td>SVM</td>\n",
       "      <td>1.0</td>\n",
       "      <td>1.0</td>\n",
       "    </tr>\n",
       "  </tbody>\n",
       "</table>\n",
       "</div>"
      ],
      "text/plain": [
       "                Models  Score  evaluation\n",
       "0  Logestic Regression    1.0         1.0\n",
       "1                  SVM    1.0         1.0"
      ]
     },
     "execution_count": 236,
     "metadata": {},
     "output_type": "execute_result"
    }
   ],
   "source": [
    "models = pd.DataFrame({\n",
    "    \n",
    "    \"Models\": [\"Logestic Regression\" , \"SVM\"],\n",
    "    \"Score\":[logistic_model.score(X_test,y_test), svm_model.score(X_test,y_test)],\n",
    "    \"evaluation\": [logistic_model.score(df_v_pca, y), svm_model.score(df_v_pca, y)]\n",
    "    \n",
    "})\n",
    "models.sort_values(by=\"Score\" , ascending=False)"
   ]
  },
  {
   "cell_type": "code",
   "execution_count": 237,
   "id": "68838754",
   "metadata": {},
   "outputs": [
    {
     "data": {
      "image/png": "[encoded data removed]",
      "text/plain": [
       "<Figure size 1000x500 with 1 Axes>"
      ]
     },
     "metadata": {},
     "output_type": "display_data"
    }
   ],
   "source": [
    "sns.set_theme(style=\"whitegrid\", palette=\"pastel\")\n",
    "# sns.set_style('whitegrid')\n",
    "plt.figure(figsize=(10,5))\n",
    "sns.barplot(x=models['Models'],y=models['Score'])\n",
    "plt.xlabel(\"Models\")\n",
    "plt.ylabel(\"Score\")\n",
    "plt.title(\"Model Selection\")\n",
    "plt.show();"
   ]
  },
  {
   "cell_type": "code",
   "execution_count": 238,
   "id": "a9c8bbca",
   "metadata": {},
   "outputs": [
    {
     "data": {
      "image/png": "[encoded data removed]",
      "text/plain": [
       "<Figure size 1000x500 with 1 Axes>"
      ]
     },
     "metadata": {},
     "output_type": "display_data"
    }
   ],
   "source": [
    "sns.set_theme(style=\"whitegrid\", palette=\"pastel\")\n",
    "# sns.set_style('whitegrid')\n",
    "plt.figure(figsize=(10,5))\n",
    "sns.barplot(x=models['Models'],y=models['evaluation'])\n",
    "plt.xlabel(\"Models\")\n",
    "plt.ylabel(\"Score On Unseen Data\")\n",
    "plt.title(\"Model Selection\")\n",
    "plt.show();"
   ]
  }
 ],
 "metadata": {
  "kernelspec": {
   "display_name": "Python 3 (ipykernel)",
   "language": "python",
   "name": "python3"
  },
  "language_info": {
   "codemirror_mode": {
    "name": "ipython",
    "version": 3
   },
   "file_extension": ".py",
   "mimetype": "text/x-python",
   "name": "python",
   "nbconvert_exporter": "python",
   "pygments_lexer": "ipython3",
   "version": "3.10.12"
  }
 },
 "nbformat": 4,
 "nbformat_minor": 5
}
